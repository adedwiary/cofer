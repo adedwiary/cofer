{
 "cells": [
  {
   "cell_type": "markdown",
   "metadata": {},
   "source": [
    "# *Fake Instagram Detection*"
   ]
  },
  {
   "cell_type": "markdown",
   "metadata": {},
   "source": [
    "# 1. Introduction"
   ]
  },
  {
   "cell_type": "markdown",
   "metadata": {},
   "source": [
    "Munculnya sosial media telah memicu menyebarnya berbagai informasi palsu di kalangan masyarakat. Akun palsu dapat menyebarkan berita palsu. AKibat dari berita palsu yang disebarluaskan dapat menyesatkan masyarakat yang mengandalkan sosial media untuk memperoleh informasi, dan berita palsu juga dapat memberikan dampak misinformasi di kalangan pengguna.\n",
    "\n",
    "Berkembangnya aplikasi Sosial Media juga dapat membuka peluang yang luas bagi orangorang tertentu untuk melakukan penipuan dengan menggunakan akun palsu. Salah satu kecurangan dari adanya akun palsu adalah penyalahgunaan identitas seseorang atau instansi yang nantinya akan digunakan untuk melakukan kejahatan seperti jual beli barang atau berbisnis. Penipuan ini dapat menimbulkan kesalahpahaman antara pengguna dalam jual beli barang dan berbisnis sehingga banyak orang atau pengguna harus berhati-hati dalam melakukan transaksi online.\n",
    "\n",
    "Akun palsu juga sering ditemukan memberikan komentar spam di sosial media dengan komentar yang dianggap tidak relevan secara kontekstual. Sebagai contoh komentar spam pada halaman Instagram public figure, komentar spam tersebut dapat berupa postingan yang tidak ada kaitannya dengan postingan dan status pada halaman yang bersangkutan, seperti mengirimkan informasi yang tidak diinginkan oleh pengguna. Aktivitas spam memang mengganggu karena dapat menimbulkan informasi yang menyesatkan dan mengganggu alur diskusi dalam status hingga kesulitan mencari informasi. Apalagi komentator spam di sosial media dilakukan oleh akun palsu yang identitasnya tidak diketahui.\n",
    "\n",
    "Cyberbullying juga merupakan salah satu yang patut mendapat perhatian dari dampak akun palsu sebagai tindakan pelecehan menggunakan teknologi. Aktivitas tersebut biasanya dilakukan dalam bentuk komentar jahat, posting gambar, atau video yang dimaksudkan untuk menyakiti atau mempermalukan orang lain. Hal ini berdampak besar baik bagi masyarakat maupun pengguna sosial media karena dapat menimbulkan kepanikan yang berujung pada kematian. Selain itu, cyberbullying juga dapat menyebabkan penurunan mental bagi pengguna yang menjadi korbannya.\n",
    "\n",
    "Oleh karena itu, untuk mengatasi masalah di atas, perlu adanya model untuk membangun model klasifikasi akun palsu pada media sosial, dengan sampel salah satu platform media sosial yaitu Instagram."
   ]
  },
  {
   "cell_type": "markdown",
   "metadata": {},
   "source": [
    "# 2. Import Libraries"
   ]
  },
  {
   "cell_type": "markdown",
   "metadata": {},
   "source": [
    "Sebelum memulai mengolah data dengan menggunakan Python diperlukan berbagai pustaka atau *library* yang dapat memudahkan proses. Pustaka yang dibutuhkan harus sesuai dengan data, model, dan metode yang digunakan dalam analisis. Pustaka yang dibutuhkan pada analisis ini adalah sebagai berikut:"
   ]
  },
  {
   "cell_type": "code",
   "execution_count": 1,
   "metadata": {},
   "outputs": [],
   "source": [
    "# Import Libraries\n",
    "\n",
    "import pandas as pd\n",
    "import numpy as np\n",
    "import sklearn\n",
    "import matplotlib.pyplot as plt\n",
    "%matplotlib inline\n",
    "import seaborn as sns\n",
    "sns.set_style(\"whitegrid\")\n",
    "import scipy.stats as stats\n",
    "\n",
    "import warnings\n",
    "warnings.filterwarnings('ignore')\n",
    "\n",
    "# For Preprocessing\n",
    "from sklearn.model_selection import train_test_split\n",
    "from feature_engine.outliers import Winsorizer, OutlierTrimmer\n",
    "from sklearn.pipeline import Pipeline\n",
    "from sklearn.compose import ColumnTransformer\n",
    "from sklearn.preprocessing import OrdinalEncoder, MinMaxScaler\n",
    "from sklearn.ensemble import ExtraTreesClassifier\n",
    "\n",
    "# For Regression Problems\n",
    "from sklearn.model_selection import GridSearchCV\n",
    "from sklearn.linear_model import LogisticRegression\n",
    "from sklearn.svm import SVC\n",
    "from sklearn.tree import DecisionTreeClassifier\n",
    "from sklearn.ensemble import RandomForestClassifier\n",
    "from sklearn.neighbors import KNeighborsClassifier\n",
    "from sklearn.naive_bayes import GaussianNB\n",
    "from sklearn.ensemble import GradientBoostingClassifier\n",
    "from sklearn.neural_network import MLPClassifier\n",
    "\n",
    "# Evaluate Regression Models\n",
    "from sklearn.metrics import f1_score, accuracy_score, precision_score, recall_score, confusion_matrix, classification_report\n",
    "from sklearn.model_selection import cross_val_score\n",
    "\n",
    "# For Model Saving\n",
    "import pickle"
   ]
  },
  {
   "cell_type": "markdown",
   "metadata": {},
   "source": [
    "# 3. Data Loading"
   ]
  },
  {
   "cell_type": "markdown",
   "metadata": {},
   "source": [
    "Data loading dilakukan setelah import pustaka selesai. Jika import pustaka berjalan dengan baik, selanjutnya mengimport dataset dengan menggunakan `.read_csv()`."
   ]
  },
  {
   "cell_type": "code",
   "execution_count": 2,
   "metadata": {},
   "outputs": [
    {
     "data": {
      "text/html": [
       "<div>\n",
       "<style scoped>\n",
       "    .dataframe tbody tr th:only-of-type {\n",
       "        vertical-align: middle;\n",
       "    }\n",
       "\n",
       "    .dataframe tbody tr th {\n",
       "        vertical-align: top;\n",
       "    }\n",
       "\n",
       "    .dataframe thead th {\n",
       "        text-align: right;\n",
       "    }\n",
       "</style>\n",
       "<table border=\"1\" class=\"dataframe\">\n",
       "  <thead>\n",
       "    <tr style=\"text-align: right;\">\n",
       "      <th></th>\n",
       "      <th>profile pic</th>\n",
       "      <th>nums/length username</th>\n",
       "      <th>fullname words</th>\n",
       "      <th>nums/length fullname</th>\n",
       "      <th>name==username</th>\n",
       "      <th>description length</th>\n",
       "      <th>external URL</th>\n",
       "      <th>private</th>\n",
       "      <th>posts</th>\n",
       "      <th>followers</th>\n",
       "      <th>follows</th>\n",
       "      <th>fake</th>\n",
       "    </tr>\n",
       "  </thead>\n",
       "  <tbody>\n",
       "    <tr>\n",
       "      <th>0</th>\n",
       "      <td>1</td>\n",
       "      <td>0.27</td>\n",
       "      <td>0</td>\n",
       "      <td>0.0</td>\n",
       "      <td>0</td>\n",
       "      <td>53</td>\n",
       "      <td>0</td>\n",
       "      <td>0</td>\n",
       "      <td>32</td>\n",
       "      <td>1000</td>\n",
       "      <td>955</td>\n",
       "      <td>0</td>\n",
       "    </tr>\n",
       "    <tr>\n",
       "      <th>1</th>\n",
       "      <td>1</td>\n",
       "      <td>0.00</td>\n",
       "      <td>2</td>\n",
       "      <td>0.0</td>\n",
       "      <td>0</td>\n",
       "      <td>44</td>\n",
       "      <td>0</td>\n",
       "      <td>0</td>\n",
       "      <td>286</td>\n",
       "      <td>2740</td>\n",
       "      <td>533</td>\n",
       "      <td>0</td>\n",
       "    </tr>\n",
       "    <tr>\n",
       "      <th>2</th>\n",
       "      <td>1</td>\n",
       "      <td>0.10</td>\n",
       "      <td>2</td>\n",
       "      <td>0.0</td>\n",
       "      <td>0</td>\n",
       "      <td>0</td>\n",
       "      <td>0</td>\n",
       "      <td>1</td>\n",
       "      <td>13</td>\n",
       "      <td>159</td>\n",
       "      <td>98</td>\n",
       "      <td>0</td>\n",
       "    </tr>\n",
       "    <tr>\n",
       "      <th>3</th>\n",
       "      <td>1</td>\n",
       "      <td>0.00</td>\n",
       "      <td>1</td>\n",
       "      <td>0.0</td>\n",
       "      <td>0</td>\n",
       "      <td>82</td>\n",
       "      <td>0</td>\n",
       "      <td>0</td>\n",
       "      <td>679</td>\n",
       "      <td>414</td>\n",
       "      <td>651</td>\n",
       "      <td>0</td>\n",
       "    </tr>\n",
       "    <tr>\n",
       "      <th>4</th>\n",
       "      <td>1</td>\n",
       "      <td>0.00</td>\n",
       "      <td>2</td>\n",
       "      <td>0.0</td>\n",
       "      <td>0</td>\n",
       "      <td>0</td>\n",
       "      <td>0</td>\n",
       "      <td>1</td>\n",
       "      <td>6</td>\n",
       "      <td>151</td>\n",
       "      <td>126</td>\n",
       "      <td>0</td>\n",
       "    </tr>\n",
       "    <tr>\n",
       "      <th>...</th>\n",
       "      <td>...</td>\n",
       "      <td>...</td>\n",
       "      <td>...</td>\n",
       "      <td>...</td>\n",
       "      <td>...</td>\n",
       "      <td>...</td>\n",
       "      <td>...</td>\n",
       "      <td>...</td>\n",
       "      <td>...</td>\n",
       "      <td>...</td>\n",
       "      <td>...</td>\n",
       "      <td>...</td>\n",
       "    </tr>\n",
       "    <tr>\n",
       "      <th>691</th>\n",
       "      <td>1</td>\n",
       "      <td>0.29</td>\n",
       "      <td>1</td>\n",
       "      <td>0.0</td>\n",
       "      <td>0</td>\n",
       "      <td>0</td>\n",
       "      <td>0</td>\n",
       "      <td>0</td>\n",
       "      <td>13</td>\n",
       "      <td>114</td>\n",
       "      <td>811</td>\n",
       "      <td>1</td>\n",
       "    </tr>\n",
       "    <tr>\n",
       "      <th>692</th>\n",
       "      <td>1</td>\n",
       "      <td>0.40</td>\n",
       "      <td>1</td>\n",
       "      <td>0.0</td>\n",
       "      <td>0</td>\n",
       "      <td>0</td>\n",
       "      <td>0</td>\n",
       "      <td>0</td>\n",
       "      <td>4</td>\n",
       "      <td>150</td>\n",
       "      <td>164</td>\n",
       "      <td>1</td>\n",
       "    </tr>\n",
       "    <tr>\n",
       "      <th>693</th>\n",
       "      <td>1</td>\n",
       "      <td>0.00</td>\n",
       "      <td>2</td>\n",
       "      <td>0.0</td>\n",
       "      <td>0</td>\n",
       "      <td>0</td>\n",
       "      <td>0</td>\n",
       "      <td>0</td>\n",
       "      <td>3</td>\n",
       "      <td>833</td>\n",
       "      <td>3572</td>\n",
       "      <td>1</td>\n",
       "    </tr>\n",
       "    <tr>\n",
       "      <th>694</th>\n",
       "      <td>0</td>\n",
       "      <td>0.17</td>\n",
       "      <td>1</td>\n",
       "      <td>0.0</td>\n",
       "      <td>0</td>\n",
       "      <td>0</td>\n",
       "      <td>0</td>\n",
       "      <td>0</td>\n",
       "      <td>1</td>\n",
       "      <td>219</td>\n",
       "      <td>1695</td>\n",
       "      <td>1</td>\n",
       "    </tr>\n",
       "    <tr>\n",
       "      <th>695</th>\n",
       "      <td>1</td>\n",
       "      <td>0.44</td>\n",
       "      <td>1</td>\n",
       "      <td>0.0</td>\n",
       "      <td>0</td>\n",
       "      <td>0</td>\n",
       "      <td>0</td>\n",
       "      <td>0</td>\n",
       "      <td>3</td>\n",
       "      <td>39</td>\n",
       "      <td>68</td>\n",
       "      <td>1</td>\n",
       "    </tr>\n",
       "  </tbody>\n",
       "</table>\n",
       "<p>696 rows × 12 columns</p>\n",
       "</div>"
      ],
      "text/plain": [
       "     profile pic  nums/length username  fullname words  nums/length fullname  \\\n",
       "0              1                  0.27               0                   0.0   \n",
       "1              1                  0.00               2                   0.0   \n",
       "2              1                  0.10               2                   0.0   \n",
       "3              1                  0.00               1                   0.0   \n",
       "4              1                  0.00               2                   0.0   \n",
       "..           ...                   ...             ...                   ...   \n",
       "691            1                  0.29               1                   0.0   \n",
       "692            1                  0.40               1                   0.0   \n",
       "693            1                  0.00               2                   0.0   \n",
       "694            0                  0.17               1                   0.0   \n",
       "695            1                  0.44               1                   0.0   \n",
       "\n",
       "     name==username  description length  external URL  private  posts  \\\n",
       "0                 0                  53             0        0     32   \n",
       "1                 0                  44             0        0    286   \n",
       "2                 0                   0             0        1     13   \n",
       "3                 0                  82             0        0    679   \n",
       "4                 0                   0             0        1      6   \n",
       "..              ...                 ...           ...      ...    ...   \n",
       "691               0                   0             0        0     13   \n",
       "692               0                   0             0        0      4   \n",
       "693               0                   0             0        0      3   \n",
       "694               0                   0             0        0      1   \n",
       "695               0                   0             0        0      3   \n",
       "\n",
       "     followers  follows  fake  \n",
       "0         1000      955     0  \n",
       "1         2740      533     0  \n",
       "2          159       98     0  \n",
       "3          414      651     0  \n",
       "4          151      126     0  \n",
       "..         ...      ...   ...  \n",
       "691        114      811     1  \n",
       "692        150      164     1  \n",
       "693        833     3572     1  \n",
       "694        219     1695     1  \n",
       "695         39       68     1  \n",
       "\n",
       "[696 rows x 12 columns]"
      ]
     },
     "execution_count": 2,
     "metadata": {},
     "output_type": "execute_result"
    }
   ],
   "source": [
    "# Import and Load Data\n",
    "data = pd.read_csv('fake_detection.csv')\n",
    "data_ori = data.copy()\n",
    "data"
   ]
  },
  {
   "cell_type": "markdown",
   "metadata": {},
   "source": [
    "Dengan menampilkan data yang sudah diimport, dapat diketahui gambaran umum dari data. Data tersebut memiliki 41.188 baris dan 21 kolom."
   ]
  },
  {
   "cell_type": "markdown",
   "metadata": {},
   "source": [
    "Informasi lebih detail mengenai struktur data dapat dilihat menggunakan fungsi `info()`."
   ]
  },
  {
   "cell_type": "code",
   "execution_count": 3,
   "metadata": {},
   "outputs": [
    {
     "name": "stdout",
     "output_type": "stream",
     "text": [
      "<class 'pandas.core.frame.DataFrame'>\n",
      "RangeIndex: 696 entries, 0 to 695\n",
      "Data columns (total 12 columns):\n",
      " #   Column                Non-Null Count  Dtype  \n",
      "---  ------                --------------  -----  \n",
      " 0   profile pic           696 non-null    int64  \n",
      " 1   nums/length username  696 non-null    float64\n",
      " 2   fullname words        696 non-null    int64  \n",
      " 3   nums/length fullname  696 non-null    float64\n",
      " 4   name==username        696 non-null    int64  \n",
      " 5   description length    696 non-null    int64  \n",
      " 6   external URL          696 non-null    int64  \n",
      " 7   private               696 non-null    int64  \n",
      " 8   posts                 696 non-null    int64  \n",
      " 9   followers             696 non-null    int64  \n",
      " 10  follows               696 non-null    int64  \n",
      " 11  fake                  696 non-null    int64  \n",
      "dtypes: float64(2), int64(10)\n",
      "memory usage: 65.4 KB\n"
     ]
    }
   ],
   "source": [
    "# Check Dataset\n",
    "\n",
    "data.info()"
   ]
  },
  {
   "cell_type": "markdown",
   "metadata": {},
   "source": [
    "Kolom target y, akan diubah namanya menjadi kolom deposit."
   ]
  },
  {
   "cell_type": "code",
   "execution_count": 4,
   "metadata": {},
   "outputs": [],
   "source": [
    "# Rename Column Target (y)\n",
    "\n",
    "data = data.rename(columns={'y': 'deposit'})"
   ]
  },
  {
   "cell_type": "markdown",
   "metadata": {},
   "source": [
    "Berikut pengkategorian kolom berdasarkan tipe datanya:"
   ]
  },
  {
   "cell_type": "code",
   "execution_count": 5,
   "metadata": {},
   "outputs": [
    {
     "name": "stdout",
     "output_type": "stream",
     "text": [
      "Numerical Columns: ['profile pic', 'nums/length username', 'fullname words', 'nums/length fullname', 'name==username', 'description length', 'external URL', 'private', 'posts', 'followers', 'follows', 'fake']\n",
      "Categorical Columns: []\n"
     ]
    }
   ],
   "source": [
    "# Get Numerical and Categorical Columns\n",
    "\n",
    "num_columns = data.select_dtypes(include=np.number).columns.tolist()\n",
    "cat_columns = data.select_dtypes(include=['object']).columns.tolist()\n",
    "\n",
    "print('Numerical Columns:', num_columns)\n",
    "print('Categorical Columns:', cat_columns)"
   ]
  },
  {
   "cell_type": "markdown",
   "metadata": {},
   "source": [
    "Informasi statistik untuk setiap kolom seperti nilai minimum, nilai maksimum, standar deviasi, rata-rata dan sebagainya, dapat ditampilkan dengan mengikuti perintah berikut"
   ]
  },
  {
   "cell_type": "code",
   "execution_count": 6,
   "metadata": {},
   "outputs": [
    {
     "data": {
      "text/html": [
       "<div>\n",
       "<style scoped>\n",
       "    .dataframe tbody tr th:only-of-type {\n",
       "        vertical-align: middle;\n",
       "    }\n",
       "\n",
       "    .dataframe tbody tr th {\n",
       "        vertical-align: top;\n",
       "    }\n",
       "\n",
       "    .dataframe thead th {\n",
       "        text-align: right;\n",
       "    }\n",
       "</style>\n",
       "<table border=\"1\" class=\"dataframe\">\n",
       "  <thead>\n",
       "    <tr style=\"text-align: right;\">\n",
       "      <th></th>\n",
       "      <th>profile pic</th>\n",
       "      <th>nums/length username</th>\n",
       "      <th>fullname words</th>\n",
       "      <th>nums/length fullname</th>\n",
       "      <th>name==username</th>\n",
       "      <th>description length</th>\n",
       "      <th>external URL</th>\n",
       "      <th>private</th>\n",
       "      <th>posts</th>\n",
       "      <th>followers</th>\n",
       "      <th>follows</th>\n",
       "      <th>fake</th>\n",
       "    </tr>\n",
       "  </thead>\n",
       "  <tbody>\n",
       "    <tr>\n",
       "      <th>count</th>\n",
       "      <td>696.000000</td>\n",
       "      <td>696.000000</td>\n",
       "      <td>696.000000</td>\n",
       "      <td>696.000000</td>\n",
       "      <td>696.000000</td>\n",
       "      <td>696.000000</td>\n",
       "      <td>696.000000</td>\n",
       "      <td>696.000000</td>\n",
       "      <td>696.000000</td>\n",
       "      <td>6.960000e+02</td>\n",
       "      <td>696.000000</td>\n",
       "      <td>696.00000</td>\n",
       "    </tr>\n",
       "    <tr>\n",
       "      <th>mean</th>\n",
       "      <td>0.711207</td>\n",
       "      <td>0.166609</td>\n",
       "      <td>1.475575</td>\n",
       "      <td>0.042170</td>\n",
       "      <td>0.035920</td>\n",
       "      <td>23.412356</td>\n",
       "      <td>0.113506</td>\n",
       "      <td>0.369253</td>\n",
       "      <td>103.244253</td>\n",
       "      <td>7.914991e+04</td>\n",
       "      <td>555.086207</td>\n",
       "      <td>0.50000</td>\n",
       "    </tr>\n",
       "    <tr>\n",
       "      <th>std</th>\n",
       "      <td>0.453527</td>\n",
       "      <td>0.218964</td>\n",
       "      <td>1.076622</td>\n",
       "      <td>0.143664</td>\n",
       "      <td>0.186223</td>\n",
       "      <td>38.595721</td>\n",
       "      <td>0.317438</td>\n",
       "      <td>0.482950</td>\n",
       "      <td>378.028168</td>\n",
       "      <td>8.428875e+05</td>\n",
       "      <td>1023.613869</td>\n",
       "      <td>0.50036</td>\n",
       "    </tr>\n",
       "    <tr>\n",
       "      <th>min</th>\n",
       "      <td>0.000000</td>\n",
       "      <td>0.000000</td>\n",
       "      <td>0.000000</td>\n",
       "      <td>0.000000</td>\n",
       "      <td>0.000000</td>\n",
       "      <td>0.000000</td>\n",
       "      <td>0.000000</td>\n",
       "      <td>0.000000</td>\n",
       "      <td>0.000000</td>\n",
       "      <td>0.000000e+00</td>\n",
       "      <td>0.000000</td>\n",
       "      <td>0.00000</td>\n",
       "    </tr>\n",
       "    <tr>\n",
       "      <th>25%</th>\n",
       "      <td>0.000000</td>\n",
       "      <td>0.000000</td>\n",
       "      <td>1.000000</td>\n",
       "      <td>0.000000</td>\n",
       "      <td>0.000000</td>\n",
       "      <td>0.000000</td>\n",
       "      <td>0.000000</td>\n",
       "      <td>0.000000</td>\n",
       "      <td>0.000000</td>\n",
       "      <td>4.200000e+01</td>\n",
       "      <td>61.000000</td>\n",
       "      <td>0.00000</td>\n",
       "    </tr>\n",
       "    <tr>\n",
       "      <th>50%</th>\n",
       "      <td>1.000000</td>\n",
       "      <td>0.000000</td>\n",
       "      <td>1.000000</td>\n",
       "      <td>0.000000</td>\n",
       "      <td>0.000000</td>\n",
       "      <td>0.000000</td>\n",
       "      <td>0.000000</td>\n",
       "      <td>0.000000</td>\n",
       "      <td>9.000000</td>\n",
       "      <td>1.655000e+02</td>\n",
       "      <td>252.000000</td>\n",
       "      <td>0.50000</td>\n",
       "    </tr>\n",
       "    <tr>\n",
       "      <th>75%</th>\n",
       "      <td>1.000000</td>\n",
       "      <td>0.330000</td>\n",
       "      <td>2.000000</td>\n",
       "      <td>0.000000</td>\n",
       "      <td>0.000000</td>\n",
       "      <td>35.000000</td>\n",
       "      <td>0.000000</td>\n",
       "      <td>1.000000</td>\n",
       "      <td>77.000000</td>\n",
       "      <td>6.930000e+02</td>\n",
       "      <td>601.750000</td>\n",
       "      <td>1.00000</td>\n",
       "    </tr>\n",
       "    <tr>\n",
       "      <th>max</th>\n",
       "      <td>1.000000</td>\n",
       "      <td>0.920000</td>\n",
       "      <td>12.000000</td>\n",
       "      <td>1.000000</td>\n",
       "      <td>1.000000</td>\n",
       "      <td>150.000000</td>\n",
       "      <td>1.000000</td>\n",
       "      <td>1.000000</td>\n",
       "      <td>7389.000000</td>\n",
       "      <td>1.533854e+07</td>\n",
       "      <td>7500.000000</td>\n",
       "      <td>1.00000</td>\n",
       "    </tr>\n",
       "  </tbody>\n",
       "</table>\n",
       "</div>"
      ],
      "text/plain": [
       "       profile pic  nums/length username  fullname words  \\\n",
       "count   696.000000            696.000000      696.000000   \n",
       "mean      0.711207              0.166609        1.475575   \n",
       "std       0.453527              0.218964        1.076622   \n",
       "min       0.000000              0.000000        0.000000   \n",
       "25%       0.000000              0.000000        1.000000   \n",
       "50%       1.000000              0.000000        1.000000   \n",
       "75%       1.000000              0.330000        2.000000   \n",
       "max       1.000000              0.920000       12.000000   \n",
       "\n",
       "       nums/length fullname  name==username  description length  external URL  \\\n",
       "count            696.000000      696.000000          696.000000    696.000000   \n",
       "mean               0.042170        0.035920           23.412356      0.113506   \n",
       "std                0.143664        0.186223           38.595721      0.317438   \n",
       "min                0.000000        0.000000            0.000000      0.000000   \n",
       "25%                0.000000        0.000000            0.000000      0.000000   \n",
       "50%                0.000000        0.000000            0.000000      0.000000   \n",
       "75%                0.000000        0.000000           35.000000      0.000000   \n",
       "max                1.000000        1.000000          150.000000      1.000000   \n",
       "\n",
       "          private        posts     followers      follows       fake  \n",
       "count  696.000000   696.000000  6.960000e+02   696.000000  696.00000  \n",
       "mean     0.369253   103.244253  7.914991e+04   555.086207    0.50000  \n",
       "std      0.482950   378.028168  8.428875e+05  1023.613869    0.50036  \n",
       "min      0.000000     0.000000  0.000000e+00     0.000000    0.00000  \n",
       "25%      0.000000     0.000000  4.200000e+01    61.000000    0.00000  \n",
       "50%      0.000000     9.000000  1.655000e+02   252.000000    0.50000  \n",
       "75%      1.000000    77.000000  6.930000e+02   601.750000    1.00000  \n",
       "max      1.000000  7389.000000  1.533854e+07  7500.000000    1.00000  "
      ]
     },
     "execution_count": 6,
     "metadata": {},
     "output_type": "execute_result"
    }
   ],
   "source": [
    "# Check Descriptive Statistics\n",
    "data.describe()"
   ]
  },
  {
   "cell_type": "markdown",
   "metadata": {},
   "source": [
    "Tidak ada missing value pada data, namun ada beberapa feature dengan value unknown. Karena jumlah value unknown ada pada hampir semua kolom categorical, maka unknown tidak dihapus dan tetap diikut sertakan dalam data pengujian. Dengan asumsi unknown merupakan kategori feature dari nasabah yang tidak termasuk dalam kategori atau label yang ditentukan oleh bank sebelumnya."
   ]
  },
  {
   "cell_type": "code",
   "execution_count": 7,
   "metadata": {},
   "outputs": [
    {
     "data": {
      "text/plain": [
       "profile pic             0\n",
       "nums/length username    0\n",
       "fullname words          0\n",
       "nums/length fullname    0\n",
       "name==username          0\n",
       "description length      0\n",
       "external URL            0\n",
       "private                 0\n",
       "posts                   0\n",
       "followers               0\n",
       "follows                 0\n",
       "fake                    0\n",
       "dtype: int64"
      ]
     },
     "execution_count": 7,
     "metadata": {},
     "output_type": "execute_result"
    }
   ],
   "source": [
    "# Check Missing Values\n",
    "\n",
    "data.isnull().sum()"
   ]
  },
  {
   "cell_type": "markdown",
   "metadata": {},
   "source": [
    "# 4. Data Preprocessing"
   ]
  },
  {
   "cell_type": "markdown",
   "metadata": {},
   "source": [
    "## Data Inference Selection"
   ]
  },
  {
   "cell_type": "markdown",
   "metadata": {},
   "source": [
    "Data inference adalah data yang bukan termasuk dalam data training maupun test. Pembagian data inference ini diperlukan untuk mengevaluasi model apakah model dapat memperkirakan label (y) jika ditambahkan data baru. Data inference yang akan ditentukan adalah 5 data, diambil secara random dari data, dengan random_state yang ditetapkan = 42."
   ]
  },
  {
   "cell_type": "code",
   "execution_count": 8,
   "metadata": {},
   "outputs": [
    {
     "data": {
      "text/html": [
       "<div>\n",
       "<style scoped>\n",
       "    .dataframe tbody tr th:only-of-type {\n",
       "        vertical-align: middle;\n",
       "    }\n",
       "\n",
       "    .dataframe tbody tr th {\n",
       "        vertical-align: top;\n",
       "    }\n",
       "\n",
       "    .dataframe thead th {\n",
       "        text-align: right;\n",
       "    }\n",
       "</style>\n",
       "<table border=\"1\" class=\"dataframe\">\n",
       "  <thead>\n",
       "    <tr style=\"text-align: right;\">\n",
       "      <th></th>\n",
       "      <th>profile pic</th>\n",
       "      <th>nums/length username</th>\n",
       "      <th>fullname words</th>\n",
       "      <th>nums/length fullname</th>\n",
       "      <th>name==username</th>\n",
       "      <th>description length</th>\n",
       "      <th>external URL</th>\n",
       "      <th>private</th>\n",
       "      <th>posts</th>\n",
       "      <th>followers</th>\n",
       "      <th>follows</th>\n",
       "      <th>fake</th>\n",
       "    </tr>\n",
       "  </thead>\n",
       "  <tbody>\n",
       "    <tr>\n",
       "      <th>674</th>\n",
       "      <td>0</td>\n",
       "      <td>0.31</td>\n",
       "      <td>1</td>\n",
       "      <td>0.33</td>\n",
       "      <td>0</td>\n",
       "      <td>0</td>\n",
       "      <td>0</td>\n",
       "      <td>0</td>\n",
       "      <td>0</td>\n",
       "      <td>42</td>\n",
       "      <td>175</td>\n",
       "      <td>1</td>\n",
       "    </tr>\n",
       "    <tr>\n",
       "      <th>314</th>\n",
       "      <td>1</td>\n",
       "      <td>0.88</td>\n",
       "      <td>1</td>\n",
       "      <td>0.00</td>\n",
       "      <td>0</td>\n",
       "      <td>0</td>\n",
       "      <td>0</td>\n",
       "      <td>1</td>\n",
       "      <td>39</td>\n",
       "      <td>8</td>\n",
       "      <td>60</td>\n",
       "      <td>1</td>\n",
       "    </tr>\n",
       "    <tr>\n",
       "      <th>611</th>\n",
       "      <td>1</td>\n",
       "      <td>0.00</td>\n",
       "      <td>2</td>\n",
       "      <td>0.00</td>\n",
       "      <td>0</td>\n",
       "      <td>14</td>\n",
       "      <td>0</td>\n",
       "      <td>0</td>\n",
       "      <td>13</td>\n",
       "      <td>228</td>\n",
       "      <td>346</td>\n",
       "      <td>0</td>\n",
       "    </tr>\n",
       "    <tr>\n",
       "      <th>431</th>\n",
       "      <td>0</td>\n",
       "      <td>0.25</td>\n",
       "      <td>1</td>\n",
       "      <td>0.00</td>\n",
       "      <td>0</td>\n",
       "      <td>0</td>\n",
       "      <td>0</td>\n",
       "      <td>1</td>\n",
       "      <td>0</td>\n",
       "      <td>0</td>\n",
       "      <td>11</td>\n",
       "      <td>1</td>\n",
       "    </tr>\n",
       "    <tr>\n",
       "      <th>552</th>\n",
       "      <td>0</td>\n",
       "      <td>0.46</td>\n",
       "      <td>1</td>\n",
       "      <td>0.00</td>\n",
       "      <td>0</td>\n",
       "      <td>0</td>\n",
       "      <td>0</td>\n",
       "      <td>1</td>\n",
       "      <td>0</td>\n",
       "      <td>332</td>\n",
       "      <td>1333</td>\n",
       "      <td>1</td>\n",
       "    </tr>\n",
       "  </tbody>\n",
       "</table>\n",
       "</div>"
      ],
      "text/plain": [
       "     profile pic  nums/length username  fullname words  nums/length fullname  \\\n",
       "674            0                  0.31               1                  0.33   \n",
       "314            1                  0.88               1                  0.00   \n",
       "611            1                  0.00               2                  0.00   \n",
       "431            0                  0.25               1                  0.00   \n",
       "552            0                  0.46               1                  0.00   \n",
       "\n",
       "     name==username  description length  external URL  private  posts  \\\n",
       "674               0                   0             0        0      0   \n",
       "314               0                   0             0        1     39   \n",
       "611               0                  14             0        0     13   \n",
       "431               0                   0             0        1      0   \n",
       "552               0                   0             0        1      0   \n",
       "\n",
       "     followers  follows  fake  \n",
       "674         42      175     1  \n",
       "314          8       60     1  \n",
       "611        228      346     0  \n",
       "431          0       11     1  \n",
       "552        332     1333     1  "
      ]
     },
     "execution_count": 8,
     "metadata": {},
     "output_type": "execute_result"
    }
   ],
   "source": [
    "# Get Data for Model Inference\n",
    "\n",
    "data_inf = data.sample(5, random_state=42)\n",
    "data_inf"
   ]
  },
  {
   "cell_type": "markdown",
   "metadata": {},
   "source": [
    "## Data Train and Test Selection"
   ]
  },
  {
   "cell_type": "markdown",
   "metadata": {},
   "source": [
    "Data yang akan diuji adalah dataset tanpa data inference, sehingga index data inference perlu dihapus terlebih dahulu."
   ]
  },
  {
   "cell_type": "code",
   "execution_count": 9,
   "metadata": {},
   "outputs": [
    {
     "data": {
      "text/html": [
       "<div>\n",
       "<style scoped>\n",
       "    .dataframe tbody tr th:only-of-type {\n",
       "        vertical-align: middle;\n",
       "    }\n",
       "\n",
       "    .dataframe tbody tr th {\n",
       "        vertical-align: top;\n",
       "    }\n",
       "\n",
       "    .dataframe thead th {\n",
       "        text-align: right;\n",
       "    }\n",
       "</style>\n",
       "<table border=\"1\" class=\"dataframe\">\n",
       "  <thead>\n",
       "    <tr style=\"text-align: right;\">\n",
       "      <th></th>\n",
       "      <th>profile pic</th>\n",
       "      <th>nums/length username</th>\n",
       "      <th>fullname words</th>\n",
       "      <th>nums/length fullname</th>\n",
       "      <th>name==username</th>\n",
       "      <th>description length</th>\n",
       "      <th>external URL</th>\n",
       "      <th>private</th>\n",
       "      <th>posts</th>\n",
       "      <th>followers</th>\n",
       "      <th>follows</th>\n",
       "      <th>fake</th>\n",
       "    </tr>\n",
       "  </thead>\n",
       "  <tbody>\n",
       "    <tr>\n",
       "      <th>0</th>\n",
       "      <td>1</td>\n",
       "      <td>0.27</td>\n",
       "      <td>0</td>\n",
       "      <td>0.0</td>\n",
       "      <td>0</td>\n",
       "      <td>53</td>\n",
       "      <td>0</td>\n",
       "      <td>0</td>\n",
       "      <td>32</td>\n",
       "      <td>1000</td>\n",
       "      <td>955</td>\n",
       "      <td>0</td>\n",
       "    </tr>\n",
       "    <tr>\n",
       "      <th>1</th>\n",
       "      <td>1</td>\n",
       "      <td>0.00</td>\n",
       "      <td>2</td>\n",
       "      <td>0.0</td>\n",
       "      <td>0</td>\n",
       "      <td>44</td>\n",
       "      <td>0</td>\n",
       "      <td>0</td>\n",
       "      <td>286</td>\n",
       "      <td>2740</td>\n",
       "      <td>533</td>\n",
       "      <td>0</td>\n",
       "    </tr>\n",
       "    <tr>\n",
       "      <th>2</th>\n",
       "      <td>1</td>\n",
       "      <td>0.10</td>\n",
       "      <td>2</td>\n",
       "      <td>0.0</td>\n",
       "      <td>0</td>\n",
       "      <td>0</td>\n",
       "      <td>0</td>\n",
       "      <td>1</td>\n",
       "      <td>13</td>\n",
       "      <td>159</td>\n",
       "      <td>98</td>\n",
       "      <td>0</td>\n",
       "    </tr>\n",
       "    <tr>\n",
       "      <th>3</th>\n",
       "      <td>1</td>\n",
       "      <td>0.00</td>\n",
       "      <td>1</td>\n",
       "      <td>0.0</td>\n",
       "      <td>0</td>\n",
       "      <td>82</td>\n",
       "      <td>0</td>\n",
       "      <td>0</td>\n",
       "      <td>679</td>\n",
       "      <td>414</td>\n",
       "      <td>651</td>\n",
       "      <td>0</td>\n",
       "    </tr>\n",
       "    <tr>\n",
       "      <th>4</th>\n",
       "      <td>1</td>\n",
       "      <td>0.00</td>\n",
       "      <td>2</td>\n",
       "      <td>0.0</td>\n",
       "      <td>0</td>\n",
       "      <td>0</td>\n",
       "      <td>0</td>\n",
       "      <td>1</td>\n",
       "      <td>6</td>\n",
       "      <td>151</td>\n",
       "      <td>126</td>\n",
       "      <td>0</td>\n",
       "    </tr>\n",
       "    <tr>\n",
       "      <th>...</th>\n",
       "      <td>...</td>\n",
       "      <td>...</td>\n",
       "      <td>...</td>\n",
       "      <td>...</td>\n",
       "      <td>...</td>\n",
       "      <td>...</td>\n",
       "      <td>...</td>\n",
       "      <td>...</td>\n",
       "      <td>...</td>\n",
       "      <td>...</td>\n",
       "      <td>...</td>\n",
       "      <td>...</td>\n",
       "    </tr>\n",
       "    <tr>\n",
       "      <th>691</th>\n",
       "      <td>1</td>\n",
       "      <td>0.29</td>\n",
       "      <td>1</td>\n",
       "      <td>0.0</td>\n",
       "      <td>0</td>\n",
       "      <td>0</td>\n",
       "      <td>0</td>\n",
       "      <td>0</td>\n",
       "      <td>13</td>\n",
       "      <td>114</td>\n",
       "      <td>811</td>\n",
       "      <td>1</td>\n",
       "    </tr>\n",
       "    <tr>\n",
       "      <th>692</th>\n",
       "      <td>1</td>\n",
       "      <td>0.40</td>\n",
       "      <td>1</td>\n",
       "      <td>0.0</td>\n",
       "      <td>0</td>\n",
       "      <td>0</td>\n",
       "      <td>0</td>\n",
       "      <td>0</td>\n",
       "      <td>4</td>\n",
       "      <td>150</td>\n",
       "      <td>164</td>\n",
       "      <td>1</td>\n",
       "    </tr>\n",
       "    <tr>\n",
       "      <th>693</th>\n",
       "      <td>1</td>\n",
       "      <td>0.00</td>\n",
       "      <td>2</td>\n",
       "      <td>0.0</td>\n",
       "      <td>0</td>\n",
       "      <td>0</td>\n",
       "      <td>0</td>\n",
       "      <td>0</td>\n",
       "      <td>3</td>\n",
       "      <td>833</td>\n",
       "      <td>3572</td>\n",
       "      <td>1</td>\n",
       "    </tr>\n",
       "    <tr>\n",
       "      <th>694</th>\n",
       "      <td>0</td>\n",
       "      <td>0.17</td>\n",
       "      <td>1</td>\n",
       "      <td>0.0</td>\n",
       "      <td>0</td>\n",
       "      <td>0</td>\n",
       "      <td>0</td>\n",
       "      <td>0</td>\n",
       "      <td>1</td>\n",
       "      <td>219</td>\n",
       "      <td>1695</td>\n",
       "      <td>1</td>\n",
       "    </tr>\n",
       "    <tr>\n",
       "      <th>695</th>\n",
       "      <td>1</td>\n",
       "      <td>0.44</td>\n",
       "      <td>1</td>\n",
       "      <td>0.0</td>\n",
       "      <td>0</td>\n",
       "      <td>0</td>\n",
       "      <td>0</td>\n",
       "      <td>0</td>\n",
       "      <td>3</td>\n",
       "      <td>39</td>\n",
       "      <td>68</td>\n",
       "      <td>1</td>\n",
       "    </tr>\n",
       "  </tbody>\n",
       "</table>\n",
       "<p>691 rows × 12 columns</p>\n",
       "</div>"
      ],
      "text/plain": [
       "     profile pic  nums/length username  fullname words  nums/length fullname  \\\n",
       "0              1                  0.27               0                   0.0   \n",
       "1              1                  0.00               2                   0.0   \n",
       "2              1                  0.10               2                   0.0   \n",
       "3              1                  0.00               1                   0.0   \n",
       "4              1                  0.00               2                   0.0   \n",
       "..           ...                   ...             ...                   ...   \n",
       "691            1                  0.29               1                   0.0   \n",
       "692            1                  0.40               1                   0.0   \n",
       "693            1                  0.00               2                   0.0   \n",
       "694            0                  0.17               1                   0.0   \n",
       "695            1                  0.44               1                   0.0   \n",
       "\n",
       "     name==username  description length  external URL  private  posts  \\\n",
       "0                 0                  53             0        0     32   \n",
       "1                 0                  44             0        0    286   \n",
       "2                 0                   0             0        1     13   \n",
       "3                 0                  82             0        0    679   \n",
       "4                 0                   0             0        1      6   \n",
       "..              ...                 ...           ...      ...    ...   \n",
       "691               0                   0             0        0     13   \n",
       "692               0                   0             0        0      4   \n",
       "693               0                   0             0        0      3   \n",
       "694               0                   0             0        0      1   \n",
       "695               0                   0             0        0      3   \n",
       "\n",
       "     followers  follows  fake  \n",
       "0         1000      955     0  \n",
       "1         2740      533     0  \n",
       "2          159       98     0  \n",
       "3          414      651     0  \n",
       "4          151      126     0  \n",
       "..         ...      ...   ...  \n",
       "691        114      811     1  \n",
       "692        150      164     1  \n",
       "693        833     3572     1  \n",
       "694        219     1695     1  \n",
       "695         39       68     1  \n",
       "\n",
       "[691 rows x 12 columns]"
      ]
     },
     "execution_count": 9,
     "metadata": {},
     "output_type": "execute_result"
    }
   ],
   "source": [
    "# Remove Inference-set from Dataset\n",
    "\n",
    "data_train_test = data.drop(data_inf.index)\n",
    "data_train_test"
   ]
  },
  {
   "cell_type": "markdown",
   "metadata": {},
   "source": [
    "Reset_index() digunakan untuk me-reset indeks yang telah ter-set dan menjadikan indeksnya default, yaitu berupa bilangan integer yang dimulai dari 0. Reset_index dilakukan pada data_train_test dan data inference."
   ]
  },
  {
   "cell_type": "code",
   "execution_count": 10,
   "metadata": {},
   "outputs": [],
   "source": [
    "# Reset Index\n",
    "\n",
    "data_train_test.reset_index(drop=True, inplace=True)\n",
    "data_inf.reset_index(drop=True, inplace=True)"
   ]
  },
  {
   "cell_type": "markdown",
   "metadata": {},
   "source": [
    "Splitting dataset diperlukan untuk membagi dataset menjadi dua bagian, yaitu data training dan data_test dengan proporsi tertentu. Proporsi ukuran yang digunakan untuk splitting data adalah 70% untuk data training dan 30% untuk data test."
   ]
  },
  {
   "cell_type": "code",
   "execution_count": 11,
   "metadata": {},
   "outputs": [
    {
     "name": "stdout",
     "output_type": "stream",
     "text": [
      "(483, 11)\n",
      "(208, 11)\n"
     ]
    }
   ],
   "source": [
    "# Splitting Dataset\n",
    "\n",
    "X = data_train_test.drop(['fake'], axis=1)\n",
    "y = data_train_test['fake']\n",
    "\n",
    "X_train, X_test, y_train, y_test = train_test_split(X, y, test_size=0.30, random_state=42)\n",
    "\n",
    "print(X_train.shape)\n",
    "print(X_test.shape)"
   ]
  },
  {
   "cell_type": "markdown",
   "metadata": {},
   "source": [
    "## Data Distribution"
   ]
  },
  {
   "cell_type": "markdown",
   "metadata": {},
   "source": [
    "Dalam menganalisis data kita perlu memahami distribusi data pada tiap kolom. Distribusi data akan membantu kita mendeteksi masalah yang mungkin ada seperti adanya outliers atau pencilan yang ekstrim dan deviasi atau penyimpangan yang besar. Skewness dapat menunjukkan kondisi pembagian atau distribusi data. \n",
    "\n",
    "*Skewness* memberikan gambaran distribusi data apakah miring ke kiri, kanan atau simetri. \n",
    "- Jika kemiringan antara -0,5 dan 0,5, maka data cukup simetris.\n",
    "- Jika kemiringan antara -1 dan –0,5 atau antara 0,5 dan 1, maka data cukup miring.\n",
    "- Jika kemiringan kurang dari -1 atau lebih besar dari 1, maka data sangat miring.\n",
    "\n",
    "Berikut nilai distribusi dari masing-masing feature :"
   ]
  },
  {
   "cell_type": "code",
   "execution_count": 12,
   "metadata": {},
   "outputs": [
    {
     "data": {
      "text/html": [
       "<div>\n",
       "<style scoped>\n",
       "    .dataframe tbody tr th:only-of-type {\n",
       "        vertical-align: middle;\n",
       "    }\n",
       "\n",
       "    .dataframe tbody tr th {\n",
       "        vertical-align: top;\n",
       "    }\n",
       "\n",
       "    .dataframe thead th {\n",
       "        text-align: right;\n",
       "    }\n",
       "</style>\n",
       "<table border=\"1\" class=\"dataframe\">\n",
       "  <thead>\n",
       "    <tr style=\"text-align: right;\">\n",
       "      <th></th>\n",
       "      <th>column</th>\n",
       "      <th>skewness_value</th>\n",
       "      <th>distribution</th>\n",
       "    </tr>\n",
       "  </thead>\n",
       "  <tbody>\n",
       "    <tr>\n",
       "      <th>0</th>\n",
       "      <td>profile pic</td>\n",
       "      <td>-0.940414</td>\n",
       "      <td>skewed</td>\n",
       "    </tr>\n",
       "    <tr>\n",
       "      <th>1</th>\n",
       "      <td>nums/length username</td>\n",
       "      <td>1.237460</td>\n",
       "      <td>skewed</td>\n",
       "    </tr>\n",
       "    <tr>\n",
       "      <th>2</th>\n",
       "      <td>fullname words</td>\n",
       "      <td>3.486016</td>\n",
       "      <td>skewed</td>\n",
       "    </tr>\n",
       "    <tr>\n",
       "      <th>3</th>\n",
       "      <td>nums/length fullname</td>\n",
       "      <td>4.163297</td>\n",
       "      <td>skewed</td>\n",
       "    </tr>\n",
       "    <tr>\n",
       "      <th>4</th>\n",
       "      <td>name==username</td>\n",
       "      <td>4.754187</td>\n",
       "      <td>skewed</td>\n",
       "    </tr>\n",
       "    <tr>\n",
       "      <th>5</th>\n",
       "      <td>description length</td>\n",
       "      <td>1.836967</td>\n",
       "      <td>skewed</td>\n",
       "    </tr>\n",
       "    <tr>\n",
       "      <th>6</th>\n",
       "      <td>external URL</td>\n",
       "      <td>2.574839</td>\n",
       "      <td>skewed</td>\n",
       "    </tr>\n",
       "    <tr>\n",
       "      <th>7</th>\n",
       "      <td>private</td>\n",
       "      <td>0.528323</td>\n",
       "      <td>skewed</td>\n",
       "    </tr>\n",
       "    <tr>\n",
       "      <th>8</th>\n",
       "      <td>posts</td>\n",
       "      <td>14.404520</td>\n",
       "      <td>skewed</td>\n",
       "    </tr>\n",
       "    <tr>\n",
       "      <th>9</th>\n",
       "      <td>followers</td>\n",
       "      <td>14.316052</td>\n",
       "      <td>skewed</td>\n",
       "    </tr>\n",
       "    <tr>\n",
       "      <th>10</th>\n",
       "      <td>follows</td>\n",
       "      <td>4.382234</td>\n",
       "      <td>skewed</td>\n",
       "    </tr>\n",
       "  </tbody>\n",
       "</table>\n",
       "</div>"
      ],
      "text/plain": [
       "                  column  skewness_value distribution\n",
       "0            profile pic       -0.940414       skewed\n",
       "1   nums/length username        1.237460       skewed\n",
       "2         fullname words        3.486016       skewed\n",
       "3   nums/length fullname        4.163297       skewed\n",
       "4         name==username        4.754187       skewed\n",
       "5     description length        1.836967       skewed\n",
       "6           external URL        2.574839       skewed\n",
       "7                private        0.528323       skewed\n",
       "8                  posts       14.404520       skewed\n",
       "9              followers       14.316052       skewed\n",
       "10               follows        4.382234       skewed"
      ]
     },
     "execution_count": 12,
     "metadata": {},
     "output_type": "execute_result"
    }
   ],
   "source": [
    "# Check Distributions\n",
    "\n",
    "X_train_skewness = pd.DataFrame(X_train.skew(axis=0), columns=['skewness_value']).reset_index()\n",
    "X_train_skewness.rename(columns={'index':'column'}, inplace=True)\n",
    "X_train_skewness['distribution'] = np.where(\n",
    "    (X_train_skewness['skewness_value'] < 0.5) & (X_train_skewness['skewness_value'] > -0.5),'normal', \n",
    "    'skewed')\n",
    "X_train_skewness"
   ]
  },
  {
   "cell_type": "markdown",
   "metadata": {},
   "source": [
    "Visualisasi distribusi data dari masing-masing features adalah sebagai berikut :"
   ]
  },
  {
   "cell_type": "code",
   "execution_count": 13,
   "metadata": {},
   "outputs": [
    {
     "data": {
      "image/png": "[encoded data removed]",
      "text/plain": [
       "<Figure size 1296x288 with 3 Axes>"
      ]
     },
     "metadata": {},
     "output_type": "display_data"
    },
    {
     "data": {
      "image/png": "[encoded data removed]",
      "text/plain": [
       "<Figure size 1296x288 with 3 Axes>"
      ]
     },
     "metadata": {},
     "output_type": "display_data"
    },
    {
     "data": {
      "image/png": "[encoded data removed]",
      "text/plain": [
       "<Figure size 1296x288 with 3 Axes>"
      ]
     },
     "metadata": {},
     "output_type": "display_data"
    },
    {
     "data": {
      "image/png": "[encoded data removed]",
      "text/plain": [
       "<Figure size 1296x288 with 3 Axes>"
      ]
     },
     "metadata": {},
     "output_type": "display_data"
    },
    {
     "data": {
      "image/png": "[encoded data removed]",
      "text/plain": [
       "<Figure size 1296x288 with 3 Axes>"
      ]
     },
     "metadata": {},
     "output_type": "display_data"
    },
    {
     "data": {
      "image/png": "[encoded data removed]",
      "text/plain": [
       "<Figure size 1296x288 with 3 Axes>"
      ]
     },
     "metadata": {},
     "output_type": "display_data"
    },
    {
     "data": {
      "image/png": "[encoded data removed]",
      "text/plain": [
       "<Figure size 1296x288 with 3 Axes>"
      ]
     },
     "metadata": {},
     "output_type": "display_data"
    },
    {
     "data": {
      "image/png": "[encoded data removed]",
      "text/plain": [
       "<Figure size 1296x288 with 3 Axes>"
      ]
     },
     "metadata": {},
     "output_type": "display_data"
    },
    {
     "data": {
      "image/png": "[encoded data removed]",
      "text/plain": [
       "<Figure size 1296x288 with 3 Axes>"
      ]
     },
     "metadata": {},
     "output_type": "display_data"
    },
    {
     "data": {
      "image/png": "[encoded data removed]",
      "text/plain": [
       "<Figure size 1296x288 with 3 Axes>"
      ]
     },
     "metadata": {},
     "output_type": "display_data"
    },
    {
     "data": {
      "image/png": "[encoded data removed]",
      "text/plain": [
       "<Figure size 1296x288 with 3 Axes>"
      ]
     },
     "metadata": {},
     "output_type": "display_data"
    }
   ],
   "source": [
    "# Visualization of Column Distributions\n",
    "\n",
    "for col in X_train:\n",
    "    fig, ax = plt.subplots(1,3, figsize=(18,4))\n",
    "\n",
    "    sns.histplot(x=X_train[col], ax=ax[0], bins=25)\n",
    "    sns.boxplot(x=X_train[col], ax=ax[1])\n",
    "    sns.kdeplot(x=X_train[col], ax=ax[2])\n",
    "    skew_val = round(X_train[col].skew(),3)\n",
    "\n",
    "    ax[0].set_title(col + '(Histogram)')\n",
    "    ax[1].set_title(col + '(Boxplot')\n",
    "    ax[2].set_title(col + '(Kdeplot - Skew): ' + str(skew_val))\n",
    "    plt.show()"
   ]
  },
  {
   "cell_type": "markdown",
   "metadata": {},
   "source": [
    "## Pipeline for Preprocessing"
   ]
  },
  {
   "cell_type": "code",
   "execution_count": 14,
   "metadata": {},
   "outputs": [
    {
     "data": {
      "text/plain": [
       "Index(['profile pic', 'nums/length username', 'fullname words',\n",
       "       'nums/length fullname', 'name==username', 'description length',\n",
       "       'external URL', 'private', 'posts', 'followers', 'follows'],\n",
       "      dtype='object')"
      ]
     },
     "execution_count": 14,
     "metadata": {},
     "output_type": "execute_result"
    }
   ],
   "source": [
    "X_train.columns"
   ]
  },
  {
   "cell_type": "code",
   "execution_count": 15,
   "metadata": {},
   "outputs": [],
   "source": [
    "# Define num_columns and bin_columns\n",
    "num_columns = ['nums/length username', 'fullname words', 'nums/length fullname', 'description length', 'posts', 'followers', 'follows']\n",
    "bin_columns = ['profile pic', 'name==username', 'external URL', 'private']\n",
    "\n",
    "# Pipeline for numerical columns\n",
    "numerical_pipeline = Pipeline([('scaler', MinMaxScaler())])\n",
    "\n",
    "# Pipeline for categorical columns\n",
    "categorical_pipeline = Pipeline([('encode', OrdinalEncoder())])\n",
    "\n",
    "# ColumnTransformer for numerical and categorical columns\n",
    "Preprocessor = ColumnTransformer([\n",
    "    ('numeric', numerical_pipeline, num_columns),\n",
    "    ('categoric', categorical_pipeline, cat_columns)\n",
    "])"
   ]
  },
  {
   "cell_type": "markdown",
   "metadata": {},
   "source": [
    "# 5. Model Definition"
   ]
  },
  {
   "cell_type": "markdown",
   "metadata": {},
   "source": [
    "Model yang akan diuji coba dalam analisis ini adalah sebagai berikut:\n",
    "1. Logistic Regression\n",
    "2. SVM\n",
    "3. Decision Tree\n",
    "4. Random Forest\n",
    "5. KNN\n",
    "6. Naive Bayes\n",
    "7. Gradient Boosting\n",
    "8. Neural Network\n",
    "\n",
    "Berikut pendefinisian model dari masing-masing model tersebut:"
   ]
  },
  {
   "cell_type": "code",
   "execution_count": 16,
   "metadata": {},
   "outputs": [],
   "source": [
    "# Pipeline for Define Preprocessor and Classifier\n",
    "\n",
    "logreg_pipeline = Pipeline([\n",
    "    ('prep', Preprocessor),\n",
    "    ('clf', LogisticRegression(random_state=0))])\n",
    "\n",
    "svc_pipeline = Pipeline([\n",
    "    ('prep', Preprocessor),\n",
    "    ('clf', SVC(random_state=0))])\n",
    "\n",
    "dt_pipeline = Pipeline([\n",
    "    ('prep', Preprocessor),\n",
    "    ('clf', DecisionTreeClassifier(random_state=0))])\n",
    "\n",
    "rf_pipeline = Pipeline([\n",
    "    ('prep', Preprocessor),\n",
    "    ('clf', RandomForestClassifier(random_state=0))])\n",
    "\n",
    "knn_pipeline = Pipeline([\n",
    "    ('prep', Preprocessor),\n",
    "    ('clf', KNeighborsClassifier())])\n",
    "\n",
    "nb_pipeline = Pipeline([\n",
    "    ('prep', Preprocessor),\n",
    "    ('clf', GaussianNB())])\n",
    "\n",
    "gb_pipeline = Pipeline([\n",
    "    ('prep', Preprocessor),\n",
    "    ('clf', GradientBoostingClassifier(random_state=0))])\n",
    "\n",
    "nn_pipeline = Pipeline([\n",
    "    ('prep', Preprocessor),\n",
    "    ('clf', MLPClassifier(random_state=0))])"
   ]
  },
  {
   "cell_type": "markdown",
   "metadata": {},
   "source": [
    "# 6. Model Training"
   ]
  },
  {
   "cell_type": "markdown",
   "metadata": {},
   "source": [
    "Model yang sudah didefinisikan akan di-tuning dengan beberapa parameter menggunakan GridSearchCV untuk mencari best parameter dengan score terbaik yang dapat digunakan untuk membuat model."
   ]
  },
  {
   "cell_type": "code",
   "execution_count": 17,
   "metadata": {},
   "outputs": [
    {
     "name": "stdout",
     "output_type": "stream",
     "text": [
      "Fitting 3 folds for each of 20 candidates, totalling 60 fits\n"
     ]
    }
   ],
   "source": [
    "# Tuning Hyperparameter with GridSearchCV for Model logistic regression\n",
    "\n",
    "## Create the parameter grid\n",
    "logreg_parameters = {\n",
    "    'clf__solver': ['newton-cg', 'liblinier'],\n",
    "    'clf__C': [0.01, 0,1, 1, 10],\n",
    "    'clf__penalty': ['l2', 'none']}\n",
    "\n",
    "## Initiate the grid search model\n",
    "grid_logreg = GridSearchCV(estimator = logreg_pipeline, \n",
    "                      param_grid = logreg_parameters,\n",
    "                      n_jobs=-1,\n",
    "                      verbose=1,\n",
    "                      cv=3).fit(X_train, y_train)"
   ]
  },
  {
   "cell_type": "code",
   "execution_count": 18,
   "metadata": {},
   "outputs": [
    {
     "name": "stdout",
     "output_type": "stream",
     "text": [
      "Fitting 3 folds for each of 9 candidates, totalling 27 fits\n"
     ]
    }
   ],
   "source": [
    "# Tuning Hyperparameter with GridSearchCV for Model SVC\n",
    "\n",
    "## Create the parameter grid\n",
    "svc_parameters = {\n",
    "    'clf__C' : [1, 10, 100],\n",
    "    'clf__gamma' : [ 1, 0.1, 0.01]}\n",
    "\n",
    "## Initiate the grid search model\n",
    "grid_svc = GridSearchCV(estimator = svc_pipeline, \n",
    "                      param_grid = svc_parameters,\n",
    "                      n_jobs=-1,\n",
    "                      verbose=1,\n",
    "                      cv=3).fit(X_train, y_train)"
   ]
  },
  {
   "cell_type": "code",
   "execution_count": 19,
   "metadata": {},
   "outputs": [
    {
     "name": "stdout",
     "output_type": "stream",
     "text": [
      "Fitting 3 folds for each of 9 candidates, totalling 27 fits\n"
     ]
    }
   ],
   "source": [
    "# Tuning Hyperparameter with GridSearchCV for Model Decision Tree\n",
    "\n",
    "## Create the parameter grid\n",
    "dt_parameters = {\n",
    "            'clf__max_depth' : [16, 18, 20], \n",
    "            'clf__min_samples_leaf' : [5, 50, 100]}\n",
    "\n",
    "## Initiate the grid search model\n",
    "grid_dt = GridSearchCV(estimator = dt_pipeline, \n",
    "                      param_grid = dt_parameters,\n",
    "                      n_jobs=-1,\n",
    "                      verbose=1,\n",
    "                      cv=3).fit(X_train, y_train)"
   ]
  },
  {
   "cell_type": "code",
   "execution_count": 20,
   "metadata": {},
   "outputs": [
    {
     "name": "stdout",
     "output_type": "stream",
     "text": [
      "Fitting 3 folds for each of 18 candidates, totalling 54 fits\n"
     ]
    }
   ],
   "source": [
    "# Tuning Hyperparameter with GridSearchCV for Model Random Forest\n",
    "\n",
    "## Create the parameter grid\n",
    "rf_parameters = {\n",
    "            'clf__max_depth' : [16, 18, 20], \n",
    "            'clf__min_samples_leaf' : [5, 50, 100],\n",
    "            'clf__n_estimators' : [200, 400]}\n",
    "\n",
    "## Initiate the grid search model\n",
    "grid_rf = GridSearchCV(estimator = rf_pipeline, \n",
    "                      param_grid = rf_parameters,\n",
    "                      n_jobs=-1,\n",
    "                      verbose=1,\n",
    "                      cv=3).fit(X_train, y_train)"
   ]
  },
  {
   "cell_type": "code",
   "execution_count": 21,
   "metadata": {},
   "outputs": [
    {
     "name": "stdout",
     "output_type": "stream",
     "text": [
      "Fitting 3 folds for each of 3 candidates, totalling 9 fits\n"
     ]
    }
   ],
   "source": [
    "# Tuning Hyperparameter with GridSearchCV for Model KNN\n",
    "\n",
    "## Create the parameter grid\n",
    "knn_parameters = {'clf__n_neighbors': [21, 23, 25]}\n",
    "\n",
    "## Initiate the grid search model\n",
    "grid_knn = GridSearchCV(estimator = knn_pipeline, \n",
    "                      param_grid = knn_parameters,\n",
    "                      n_jobs=-1,\n",
    "                      verbose=1,\n",
    "                      cv=3).fit(X_train, y_train)"
   ]
  },
  {
   "cell_type": "code",
   "execution_count": 22,
   "metadata": {},
   "outputs": [
    {
     "name": "stdout",
     "output_type": "stream",
     "text": [
      "Fitting 3 folds for each of 10 candidates, totalling 30 fits\n"
     ]
    }
   ],
   "source": [
    "# Tuning Hyperparameter with GridSearchCV for Model Naive Bayes\n",
    "\n",
    "## Create the parameter grid\n",
    "nb_parameters = {'clf__var_smoothing': np.logspace(0,-9, num=10)}\n",
    "\n",
    "## Initiate the grid search model\n",
    "grid_nb = GridSearchCV(estimator = nb_pipeline, \n",
    "                      param_grid = nb_parameters,\n",
    "                      n_jobs=-1,\n",
    "                      verbose=1,\n",
    "                      cv=3).fit(X_train, y_train)"
   ]
  },
  {
   "cell_type": "code",
   "execution_count": 23,
   "metadata": {},
   "outputs": [
    {
     "name": "stdout",
     "output_type": "stream",
     "text": [
      "Fitting 3 folds for each of 6 candidates, totalling 18 fits\n"
     ]
    }
   ],
   "source": [
    "# Tuning Hyperparameter with GridSearchCV for Model Gradient Boost\n",
    "\n",
    "## Create the parameter grid\n",
    "gb_parameters = {\n",
    "            'clf__learning_rate': [0.1, 0.01, 0.001],\n",
    "            'clf__n_estimators': [200, 400]}\n",
    "\n",
    "## Initiate the grid search model\n",
    "grid_gb = GridSearchCV(estimator = gb_pipeline, \n",
    "                      param_grid = gb_parameters,\n",
    "                      n_jobs=-1,\n",
    "                      verbose=1,\n",
    "                      cv=3).fit(X_train, y_train)"
   ]
  },
  {
   "cell_type": "code",
   "execution_count": 24,
   "metadata": {},
   "outputs": [
    {
     "name": "stdout",
     "output_type": "stream",
     "text": [
      "Fitting 3 folds for each of 4 candidates, totalling 12 fits\n"
     ]
    }
   ],
   "source": [
    "# Tuning Hyperparameter with GridSearchCV for Model Neural Network\n",
    "\n",
    "## Create the parameter grid\n",
    "nn_parameters = {\n",
    "            'clf__alpha': [0.00001, 0.000001],\n",
    "            'clf__hidden_layer_sizes': [(10, 150, 10), (10, 180, 10)]}\n",
    "\n",
    "## Initiate the grid search model\n",
    "grid_nn = GridSearchCV(estimator = nn_pipeline, \n",
    "                      param_grid = nn_parameters,\n",
    "                      n_jobs=-1,\n",
    "                      verbose=1,\n",
    "                      cv=3).fit(X_train, y_train)"
   ]
  },
  {
   "cell_type": "markdown",
   "metadata": {},
   "source": [
    "# 7. Model Evaluation"
   ]
  },
  {
   "cell_type": "markdown",
   "metadata": {},
   "source": [
    "Pada bagian ini, dilakukan evaluasi model yang harus menunjukkan bagaimana performa model berdasarkan metrics yang dipilih. Hal ini harus dibuktikan dengan visualisasi tren performa dan/atau tingkat kesalahan model."
   ]
  },
  {
   "cell_type": "code",
   "execution_count": 25,
   "metadata": {},
   "outputs": [],
   "source": [
    "# Create Evaluation Dataframe\n",
    "evaluation = pd.DataFrame({'Model': [],\n",
    "                           'Best Params':[],\n",
    "                           'Best Cross Val Score':[],\n",
    "                           'Train Score':[],\n",
    "                           'Test Score':[]})\n",
    "\n",
    "# Create Metrics Evaluation Dataframe\n",
    "metrics_eval = pd.DataFrame({'Model': [],\n",
    "                             'Train_Precision':[],\n",
    "                             'Train_Recall':[],\n",
    "                             'Train_F1-score':[],\n",
    "                             'Test_Precision':[],\n",
    "                             'Test_Recall':[],\n",
    "                             'Test_F1-score':[]})"
   ]
  },
  {
   "cell_type": "markdown",
   "metadata": {},
   "source": [
    "## Model Logistic Regression"
   ]
  },
  {
   "cell_type": "markdown",
   "metadata": {},
   "source": [
    "Berikut adalah parameter terbaik, cross_val_score terbaik, train-set score, dan test-set score pada model logistic regression. "
   ]
  },
  {
   "cell_type": "code",
   "execution_count": 26,
   "metadata": {},
   "outputs": [
    {
     "data": {
      "text/html": [
       "<div>\n",
       "<style scoped>\n",
       "    .dataframe tbody tr th:only-of-type {\n",
       "        vertical-align: middle;\n",
       "    }\n",
       "\n",
       "    .dataframe tbody tr th {\n",
       "        vertical-align: top;\n",
       "    }\n",
       "\n",
       "    .dataframe thead th {\n",
       "        text-align: right;\n",
       "    }\n",
       "</style>\n",
       "<table border=\"1\" class=\"dataframe\">\n",
       "  <thead>\n",
       "    <tr style=\"text-align: right;\">\n",
       "      <th></th>\n",
       "      <th>Model</th>\n",
       "      <th>Best Params</th>\n",
       "      <th>Best Cross Val Score</th>\n",
       "      <th>Train Score</th>\n",
       "      <th>Test Score</th>\n",
       "    </tr>\n",
       "  </thead>\n",
       "  <tbody>\n",
       "    <tr>\n",
       "      <th>0</th>\n",
       "      <td>Logistic Regression</td>\n",
       "      <td>{'clf__C': 0.01, 'clf__penalty': 'none', 'clf__solver': 'newton-cg'}</td>\n",
       "      <td>0.89648</td>\n",
       "      <td>0.902692</td>\n",
       "      <td>0.889423</td>\n",
       "    </tr>\n",
       "  </tbody>\n",
       "</table>\n",
       "</div>"
      ],
      "text/plain": [
       "                 Model  \\\n",
       "0  Logistic Regression   \n",
       "\n",
       "                                                            Best Params  \\\n",
       "0  {'clf__C': 0.01, 'clf__penalty': 'none', 'clf__solver': 'newton-cg'}   \n",
       "\n",
       "   Best Cross Val Score  Train Score  Test Score  \n",
       "0               0.89648     0.902692    0.889423  "
      ]
     },
     "execution_count": 26,
     "metadata": {},
     "output_type": "execute_result"
    }
   ],
   "source": [
    "# Evaluate Best Parameter & Accuracy Model\n",
    "best_params_lr = grid_logreg.best_params_\n",
    "best_cross_val_lr = grid_logreg.best_score_\n",
    "score_lr = grid_logreg.score(X_train, y_train)\n",
    "score_lrt = grid_logreg.score(X_test, y_test)\n",
    "\n",
    "r = evaluation.shape[0]\n",
    "evaluation.loc[r] = ['Logistic Regression', best_params_lr, best_cross_val_lr, score_lr, score_lrt]\n",
    "pd.set_option('display.max_colwidth', None)\n",
    "evaluation"
   ]
  },
  {
   "cell_type": "markdown",
   "metadata": {},
   "source": [
    "Berikut adalah precision, recall, f1-score pada model logistic regression. "
   ]
  },
  {
   "cell_type": "code",
   "execution_count": 27,
   "metadata": {},
   "outputs": [
    {
     "data": {
      "text/html": [
       "<div>\n",
       "<style scoped>\n",
       "    .dataframe tbody tr th:only-of-type {\n",
       "        vertical-align: middle;\n",
       "    }\n",
       "\n",
       "    .dataframe tbody tr th {\n",
       "        vertical-align: top;\n",
       "    }\n",
       "\n",
       "    .dataframe thead th {\n",
       "        text-align: right;\n",
       "    }\n",
       "</style>\n",
       "<table border=\"1\" class=\"dataframe\">\n",
       "  <thead>\n",
       "    <tr style=\"text-align: right;\">\n",
       "      <th></th>\n",
       "      <th>Model</th>\n",
       "      <th>Train_Precision</th>\n",
       "      <th>Train_Recall</th>\n",
       "      <th>Train_F1-score</th>\n",
       "      <th>Test_Precision</th>\n",
       "      <th>Test_Recall</th>\n",
       "      <th>Test_F1-score</th>\n",
       "    </tr>\n",
       "  </thead>\n",
       "  <tbody>\n",
       "    <tr>\n",
       "      <th>0</th>\n",
       "      <td>Logistic Regression</td>\n",
       "      <td>0.884615</td>\n",
       "      <td>0.931174</td>\n",
       "      <td>0.907298</td>\n",
       "      <td>0.849057</td>\n",
       "      <td>0.927835</td>\n",
       "      <td>0.8867</td>\n",
       "    </tr>\n",
       "  </tbody>\n",
       "</table>\n",
       "</div>"
      ],
      "text/plain": [
       "                 Model  Train_Precision  Train_Recall  Train_F1-score  \\\n",
       "0  Logistic Regression         0.884615      0.931174        0.907298   \n",
       "\n",
       "   Test_Precision  Test_Recall  Test_F1-score  \n",
       "0        0.849057     0.927835         0.8867  "
      ]
     },
     "execution_count": 27,
     "metadata": {},
     "output_type": "execute_result"
    }
   ],
   "source": [
    "# Select best model with best fit\n",
    "best_grid_lr = grid_logreg.best_estimator_\n",
    "\n",
    "# Calculate precision, recall, f1-score,\n",
    "prec_lr = precision_score(y_train, best_grid_lr.predict(X_train))\n",
    "rec_lr = recall_score(y_train, best_grid_lr.predict(X_train))\n",
    "f1_lr = f1_score(y_train, best_grid_lr.predict(X_train))\n",
    "prec_lrt = precision_score(y_test, best_grid_lr.predict(X_test))\n",
    "rec_lrt = recall_score(y_test, best_grid_lr.predict(X_test))\n",
    "f1_lrt = f1_score(y_test, best_grid_lr.predict(X_test))\n",
    "\n",
    "r = metrics_eval.shape[0]\n",
    "metrics_eval.loc[r] = ['Logistic Regression', prec_lr, rec_lr, f1_lr, prec_lrt, rec_lrt, f1_lrt]\n",
    "pd.set_option('display.max_colwidth', None)\n",
    "metrics_eval"
   ]
  },
  {
   "cell_type": "markdown",
   "metadata": {},
   "source": [
    "Berikut adalah confusion_matrix pada model Logistic Regression:"
   ]
  },
  {
   "cell_type": "code",
   "execution_count": 28,
   "metadata": {},
   "outputs": [
    {
     "name": "stdout",
     "output_type": "stream",
     "text": [
      "Train-Set\n",
      "[[206  30]\n",
      " [ 17 230]]\n",
      " \n",
      "Test-Set\n",
      "[[95 16]\n",
      " [ 7 90]]\n"
     ]
    }
   ],
   "source": [
    "# Print Confusion Matrix\n",
    "\n",
    "print('Train-Set')\n",
    "print(confusion_matrix(y_train, best_grid_lr.predict(X_train)))\n",
    "print(' ')\n",
    "\n",
    "print('Test-Set')\n",
    "print(confusion_matrix(y_test, best_grid_lr.predict(X_test)))"
   ]
  },
  {
   "cell_type": "markdown",
   "metadata": {},
   "source": [
    "## Model Support Vector Machine (SVM)"
   ]
  },
  {
   "cell_type": "markdown",
   "metadata": {},
   "source": [
    "Berikut adalah parameter terbaik, cross_val_score terbaik, train-set score, dan test-set score pada model Support Vector Machine (SVM). "
   ]
  },
  {
   "cell_type": "code",
   "execution_count": 29,
   "metadata": {},
   "outputs": [
    {
     "data": {
      "text/html": [
       "<div>\n",
       "<style scoped>\n",
       "    .dataframe tbody tr th:only-of-type {\n",
       "        vertical-align: middle;\n",
       "    }\n",
       "\n",
       "    .dataframe tbody tr th {\n",
       "        vertical-align: top;\n",
       "    }\n",
       "\n",
       "    .dataframe thead th {\n",
       "        text-align: right;\n",
       "    }\n",
       "</style>\n",
       "<table border=\"1\" class=\"dataframe\">\n",
       "  <thead>\n",
       "    <tr style=\"text-align: right;\">\n",
       "      <th></th>\n",
       "      <th>Model</th>\n",
       "      <th>Best Params</th>\n",
       "      <th>Best Cross Val Score</th>\n",
       "      <th>Train Score</th>\n",
       "      <th>Test Score</th>\n",
       "    </tr>\n",
       "  </thead>\n",
       "  <tbody>\n",
       "    <tr>\n",
       "      <th>0</th>\n",
       "      <td>Logistic Regression</td>\n",
       "      <td>{'clf__C': 0.01, 'clf__penalty': 'none', 'clf__solver': 'newton-cg'}</td>\n",
       "      <td>0.896480</td>\n",
       "      <td>0.902692</td>\n",
       "      <td>0.889423</td>\n",
       "    </tr>\n",
       "    <tr>\n",
       "      <th>1</th>\n",
       "      <td>Support Vector Machine</td>\n",
       "      <td>{'clf__C': 100, 'clf__gamma': 0.1}</td>\n",
       "      <td>0.836439</td>\n",
       "      <td>0.855072</td>\n",
       "      <td>0.860577</td>\n",
       "    </tr>\n",
       "  </tbody>\n",
       "</table>\n",
       "</div>"
      ],
      "text/plain": [
       "                    Model  \\\n",
       "0     Logistic Regression   \n",
       "1  Support Vector Machine   \n",
       "\n",
       "                                                            Best Params  \\\n",
       "0  {'clf__C': 0.01, 'clf__penalty': 'none', 'clf__solver': 'newton-cg'}   \n",
       "1                                    {'clf__C': 100, 'clf__gamma': 0.1}   \n",
       "\n",
       "   Best Cross Val Score  Train Score  Test Score  \n",
       "0              0.896480     0.902692    0.889423  \n",
       "1              0.836439     0.855072    0.860577  "
      ]
     },
     "execution_count": 29,
     "metadata": {},
     "output_type": "execute_result"
    }
   ],
   "source": [
    "# Evaluate Best Parameter & Accuracy Model\n",
    "best_params_svc = grid_svc.best_params_\n",
    "best_cross_val_svc = grid_svc.best_score_\n",
    "score_svc = grid_svc.score(X_train, y_train)\n",
    "score_svct = grid_svc.score(X_test, y_test)\n",
    "\n",
    "evaluation.loc[r+1] = ['Support Vector Machine', best_params_svc, best_cross_val_svc, score_svc, score_svct]\n",
    "evaluation"
   ]
  },
  {
   "cell_type": "markdown",
   "metadata": {},
   "source": [
    "Berikut adalah precision, recall, f1-score pada model Support Vector Machine."
   ]
  },
  {
   "cell_type": "code",
   "execution_count": 30,
   "metadata": {},
   "outputs": [
    {
     "data": {
      "text/html": [
       "<div>\n",
       "<style scoped>\n",
       "    .dataframe tbody tr th:only-of-type {\n",
       "        vertical-align: middle;\n",
       "    }\n",
       "\n",
       "    .dataframe tbody tr th {\n",
       "        vertical-align: top;\n",
       "    }\n",
       "\n",
       "    .dataframe thead th {\n",
       "        text-align: right;\n",
       "    }\n",
       "</style>\n",
       "<table border=\"1\" class=\"dataframe\">\n",
       "  <thead>\n",
       "    <tr style=\"text-align: right;\">\n",
       "      <th></th>\n",
       "      <th>Model</th>\n",
       "      <th>Train_Precision</th>\n",
       "      <th>Train_Recall</th>\n",
       "      <th>Train_F1-score</th>\n",
       "      <th>Test_Precision</th>\n",
       "      <th>Test_Recall</th>\n",
       "      <th>Test_F1-score</th>\n",
       "    </tr>\n",
       "  </thead>\n",
       "  <tbody>\n",
       "    <tr>\n",
       "      <th>0</th>\n",
       "      <td>Logistic Regression</td>\n",
       "      <td>0.884615</td>\n",
       "      <td>0.931174</td>\n",
       "      <td>0.907298</td>\n",
       "      <td>0.849057</td>\n",
       "      <td>0.927835</td>\n",
       "      <td>0.886700</td>\n",
       "    </tr>\n",
       "    <tr>\n",
       "      <th>1</th>\n",
       "      <td>Support Vector Machine</td>\n",
       "      <td>0.858300</td>\n",
       "      <td>0.858300</td>\n",
       "      <td>0.858300</td>\n",
       "      <td>0.814815</td>\n",
       "      <td>0.907216</td>\n",
       "      <td>0.858537</td>\n",
       "    </tr>\n",
       "  </tbody>\n",
       "</table>\n",
       "</div>"
      ],
      "text/plain": [
       "                    Model  Train_Precision  Train_Recall  Train_F1-score  \\\n",
       "0     Logistic Regression         0.884615      0.931174        0.907298   \n",
       "1  Support Vector Machine         0.858300      0.858300        0.858300   \n",
       "\n",
       "   Test_Precision  Test_Recall  Test_F1-score  \n",
       "0        0.849057     0.927835       0.886700  \n",
       "1        0.814815     0.907216       0.858537  "
      ]
     },
     "execution_count": 30,
     "metadata": {},
     "output_type": "execute_result"
    }
   ],
   "source": [
    "# Select best model with best fit\n",
    "best_grid_svc = grid_svc.best_estimator_\n",
    "\n",
    "# Calculate precision, recall, f1-score,\n",
    "prec_svc = precision_score(y_train, best_grid_svc.predict(X_train))\n",
    "rec_svc = recall_score(y_train, best_grid_svc.predict(X_train))\n",
    "f1_svc = f1_score(y_train, best_grid_svc.predict(X_train))\n",
    "prec_svct = precision_score(y_test, best_grid_svc.predict(X_test))\n",
    "rec_svct = recall_score(y_test, best_grid_svc.predict(X_test))\n",
    "f1_svct = f1_score(y_test, best_grid_svc.predict(X_test))\n",
    "\n",
    "metrics_eval.loc[r+1] = ['Support Vector Machine', prec_svc, rec_svc, f1_svc, prec_svct, rec_svct, f1_svct]\n",
    "metrics_eval"
   ]
  },
  {
   "cell_type": "markdown",
   "metadata": {},
   "source": [
    "Berikut adalah confusion_matrix pada model Support Vector Machine:"
   ]
  },
  {
   "cell_type": "code",
   "execution_count": 31,
   "metadata": {},
   "outputs": [
    {
     "name": "stdout",
     "output_type": "stream",
     "text": [
      "Train-Set\n",
      "[[201  35]\n",
      " [ 35 212]]\n",
      " \n",
      "Test-Set\n",
      "[[91 20]\n",
      " [ 9 88]]\n"
     ]
    }
   ],
   "source": [
    "# Print Confusion Matrix\n",
    "\n",
    "print('Train-Set')\n",
    "print(confusion_matrix(y_train, best_grid_svc.predict(X_train)))\n",
    "print(' ')\n",
    "\n",
    "print('Test-Set')\n",
    "print(confusion_matrix(y_test, best_grid_svc.predict(X_test)))"
   ]
  },
  {
   "cell_type": "markdown",
   "metadata": {},
   "source": [
    "## Model Decision Tree"
   ]
  },
  {
   "cell_type": "markdown",
   "metadata": {},
   "source": [
    "Berikut adalah parameter terbaik, cross_val_score terbaik, train-set score, dan test-set score pada model Decision Tree. "
   ]
  },
  {
   "cell_type": "code",
   "execution_count": 32,
   "metadata": {},
   "outputs": [
    {
     "data": {
      "text/html": [
       "<div>\n",
       "<style scoped>\n",
       "    .dataframe tbody tr th:only-of-type {\n",
       "        vertical-align: middle;\n",
       "    }\n",
       "\n",
       "    .dataframe tbody tr th {\n",
       "        vertical-align: top;\n",
       "    }\n",
       "\n",
       "    .dataframe thead th {\n",
       "        text-align: right;\n",
       "    }\n",
       "</style>\n",
       "<table border=\"1\" class=\"dataframe\">\n",
       "  <thead>\n",
       "    <tr style=\"text-align: right;\">\n",
       "      <th></th>\n",
       "      <th>Model</th>\n",
       "      <th>Best Params</th>\n",
       "      <th>Best Cross Val Score</th>\n",
       "      <th>Train Score</th>\n",
       "      <th>Test Score</th>\n",
       "    </tr>\n",
       "  </thead>\n",
       "  <tbody>\n",
       "    <tr>\n",
       "      <th>0</th>\n",
       "      <td>Logistic Regression</td>\n",
       "      <td>{'clf__C': 0.01, 'clf__penalty': 'none', 'clf__solver': 'newton-cg'}</td>\n",
       "      <td>0.896480</td>\n",
       "      <td>0.902692</td>\n",
       "      <td>0.889423</td>\n",
       "    </tr>\n",
       "    <tr>\n",
       "      <th>1</th>\n",
       "      <td>Support Vector Machine</td>\n",
       "      <td>{'clf__C': 100, 'clf__gamma': 0.1}</td>\n",
       "      <td>0.836439</td>\n",
       "      <td>0.855072</td>\n",
       "      <td>0.860577</td>\n",
       "    </tr>\n",
       "    <tr>\n",
       "      <th>2</th>\n",
       "      <td>Decision Tree</td>\n",
       "      <td>{'clf__max_depth': 16, 'clf__min_samples_leaf': 50}</td>\n",
       "      <td>0.848861</td>\n",
       "      <td>0.855072</td>\n",
       "      <td>0.836538</td>\n",
       "    </tr>\n",
       "  </tbody>\n",
       "</table>\n",
       "</div>"
      ],
      "text/plain": [
       "                    Model  \\\n",
       "0     Logistic Regression   \n",
       "1  Support Vector Machine   \n",
       "2           Decision Tree   \n",
       "\n",
       "                                                            Best Params  \\\n",
       "0  {'clf__C': 0.01, 'clf__penalty': 'none', 'clf__solver': 'newton-cg'}   \n",
       "1                                    {'clf__C': 100, 'clf__gamma': 0.1}   \n",
       "2                   {'clf__max_depth': 16, 'clf__min_samples_leaf': 50}   \n",
       "\n",
       "   Best Cross Val Score  Train Score  Test Score  \n",
       "0              0.896480     0.902692    0.889423  \n",
       "1              0.836439     0.855072    0.860577  \n",
       "2              0.848861     0.855072    0.836538  "
      ]
     },
     "execution_count": 32,
     "metadata": {},
     "output_type": "execute_result"
    }
   ],
   "source": [
    "# Evaluate Best Parameter & Accuracy Model\n",
    "best_params_dt = grid_dt.best_params_\n",
    "best_cross_val_dt = grid_dt.best_score_\n",
    "score_dt = grid_dt.score(X_train, y_train)\n",
    "score_dtt = grid_dt.score(X_test, y_test)\n",
    "\n",
    "evaluation.loc[r+2] = ['Decision Tree', best_params_dt, best_cross_val_dt, score_dt, score_dtt]\n",
    "evaluation"
   ]
  },
  {
   "cell_type": "markdown",
   "metadata": {},
   "source": [
    "Berikut adalah precision, recall, f1-score pada model Decision Tree."
   ]
  },
  {
   "cell_type": "code",
   "execution_count": 33,
   "metadata": {},
   "outputs": [
    {
     "data": {
      "text/html": [
       "<div>\n",
       "<style scoped>\n",
       "    .dataframe tbody tr th:only-of-type {\n",
       "        vertical-align: middle;\n",
       "    }\n",
       "\n",
       "    .dataframe tbody tr th {\n",
       "        vertical-align: top;\n",
       "    }\n",
       "\n",
       "    .dataframe thead th {\n",
       "        text-align: right;\n",
       "    }\n",
       "</style>\n",
       "<table border=\"1\" class=\"dataframe\">\n",
       "  <thead>\n",
       "    <tr style=\"text-align: right;\">\n",
       "      <th></th>\n",
       "      <th>Model</th>\n",
       "      <th>Train_Precision</th>\n",
       "      <th>Train_Recall</th>\n",
       "      <th>Train_F1-score</th>\n",
       "      <th>Test_Precision</th>\n",
       "      <th>Test_Recall</th>\n",
       "      <th>Test_F1-score</th>\n",
       "    </tr>\n",
       "  </thead>\n",
       "  <tbody>\n",
       "    <tr>\n",
       "      <th>0</th>\n",
       "      <td>Logistic Regression</td>\n",
       "      <td>0.884615</td>\n",
       "      <td>0.931174</td>\n",
       "      <td>0.907298</td>\n",
       "      <td>0.849057</td>\n",
       "      <td>0.927835</td>\n",
       "      <td>0.886700</td>\n",
       "    </tr>\n",
       "    <tr>\n",
       "      <th>1</th>\n",
       "      <td>Support Vector Machine</td>\n",
       "      <td>0.858300</td>\n",
       "      <td>0.858300</td>\n",
       "      <td>0.858300</td>\n",
       "      <td>0.814815</td>\n",
       "      <td>0.907216</td>\n",
       "      <td>0.858537</td>\n",
       "    </tr>\n",
       "    <tr>\n",
       "      <th>2</th>\n",
       "      <td>Decision Tree</td>\n",
       "      <td>0.886463</td>\n",
       "      <td>0.821862</td>\n",
       "      <td>0.852941</td>\n",
       "      <td>0.853933</td>\n",
       "      <td>0.783505</td>\n",
       "      <td>0.817204</td>\n",
       "    </tr>\n",
       "  </tbody>\n",
       "</table>\n",
       "</div>"
      ],
      "text/plain": [
       "                    Model  Train_Precision  Train_Recall  Train_F1-score  \\\n",
       "0     Logistic Regression         0.884615      0.931174        0.907298   \n",
       "1  Support Vector Machine         0.858300      0.858300        0.858300   \n",
       "2           Decision Tree         0.886463      0.821862        0.852941   \n",
       "\n",
       "   Test_Precision  Test_Recall  Test_F1-score  \n",
       "0        0.849057     0.927835       0.886700  \n",
       "1        0.814815     0.907216       0.858537  \n",
       "2        0.853933     0.783505       0.817204  "
      ]
     },
     "execution_count": 33,
     "metadata": {},
     "output_type": "execute_result"
    }
   ],
   "source": [
    "# Select best model with best fit\n",
    "best_grid_dt = grid_dt.best_estimator_\n",
    "\n",
    "# Calculate precision, recall, f1-score,\n",
    "prec_dt = precision_score(y_train, best_grid_dt.predict(X_train))\n",
    "rec_dt = recall_score(y_train, best_grid_dt.predict(X_train))\n",
    "f1_dt = f1_score(y_train, best_grid_dt.predict(X_train))\n",
    "prec_dtt = precision_score(y_test, best_grid_dt.predict(X_test))\n",
    "rec_dtt = recall_score(y_test, best_grid_dt.predict(X_test))\n",
    "f1_dtt = f1_score(y_test, best_grid_dt.predict(X_test))\n",
    "\n",
    "metrics_eval.loc[r+2] = ['Decision Tree', prec_dt, rec_dt, f1_dt, prec_dtt, rec_dtt, f1_dtt]\n",
    "metrics_eval"
   ]
  },
  {
   "cell_type": "markdown",
   "metadata": {},
   "source": [
    "Berikut adalah confusion_matrix pada model Decision Tree."
   ]
  },
  {
   "cell_type": "code",
   "execution_count": 34,
   "metadata": {},
   "outputs": [
    {
     "name": "stdout",
     "output_type": "stream",
     "text": [
      "Train-Set\n",
      "[[210  26]\n",
      " [ 44 203]]\n",
      " \n",
      "Test-Set\n",
      "[[98 13]\n",
      " [21 76]]\n"
     ]
    }
   ],
   "source": [
    "# Print Confusion Matrix\n",
    "\n",
    "print('Train-Set')\n",
    "print(confusion_matrix(y_train, best_grid_dt.predict(X_train)))\n",
    "print(' ')\n",
    "\n",
    "print('Test-Set')\n",
    "print(confusion_matrix(y_test, best_grid_dt.predict(X_test)))"
   ]
  },
  {
   "cell_type": "markdown",
   "metadata": {},
   "source": [
    "## Model Random Forest"
   ]
  },
  {
   "cell_type": "markdown",
   "metadata": {},
   "source": [
    "Berikut adalah parameter terbaik, cross_val_score terbaik, train-set score, dan test-set score pada model Random Forest."
   ]
  },
  {
   "cell_type": "code",
   "execution_count": 35,
   "metadata": {},
   "outputs": [
    {
     "data": {
      "text/html": [
       "<div>\n",
       "<style scoped>\n",
       "    .dataframe tbody tr th:only-of-type {\n",
       "        vertical-align: middle;\n",
       "    }\n",
       "\n",
       "    .dataframe tbody tr th {\n",
       "        vertical-align: top;\n",
       "    }\n",
       "\n",
       "    .dataframe thead th {\n",
       "        text-align: right;\n",
       "    }\n",
       "</style>\n",
       "<table border=\"1\" class=\"dataframe\">\n",
       "  <thead>\n",
       "    <tr style=\"text-align: right;\">\n",
       "      <th></th>\n",
       "      <th>Model</th>\n",
       "      <th>Best Params</th>\n",
       "      <th>Best Cross Val Score</th>\n",
       "      <th>Train Score</th>\n",
       "      <th>Test Score</th>\n",
       "    </tr>\n",
       "  </thead>\n",
       "  <tbody>\n",
       "    <tr>\n",
       "      <th>0</th>\n",
       "      <td>Logistic Regression</td>\n",
       "      <td>{'clf__C': 0.01, 'clf__penalty': 'none', 'clf__solver': 'newton-cg'}</td>\n",
       "      <td>0.896480</td>\n",
       "      <td>0.902692</td>\n",
       "      <td>0.889423</td>\n",
       "    </tr>\n",
       "    <tr>\n",
       "      <th>1</th>\n",
       "      <td>Support Vector Machine</td>\n",
       "      <td>{'clf__C': 100, 'clf__gamma': 0.1}</td>\n",
       "      <td>0.836439</td>\n",
       "      <td>0.855072</td>\n",
       "      <td>0.860577</td>\n",
       "    </tr>\n",
       "    <tr>\n",
       "      <th>2</th>\n",
       "      <td>Decision Tree</td>\n",
       "      <td>{'clf__max_depth': 16, 'clf__min_samples_leaf': 50}</td>\n",
       "      <td>0.848861</td>\n",
       "      <td>0.855072</td>\n",
       "      <td>0.836538</td>\n",
       "    </tr>\n",
       "    <tr>\n",
       "      <th>3</th>\n",
       "      <td>Random Forest</td>\n",
       "      <td>{'clf__max_depth': 16, 'clf__min_samples_leaf': 5, 'clf__n_estimators': 200}</td>\n",
       "      <td>0.906832</td>\n",
       "      <td>0.948240</td>\n",
       "      <td>0.942308</td>\n",
       "    </tr>\n",
       "  </tbody>\n",
       "</table>\n",
       "</div>"
      ],
      "text/plain": [
       "                    Model  \\\n",
       "0     Logistic Regression   \n",
       "1  Support Vector Machine   \n",
       "2           Decision Tree   \n",
       "3           Random Forest   \n",
       "\n",
       "                                                                    Best Params  \\\n",
       "0          {'clf__C': 0.01, 'clf__penalty': 'none', 'clf__solver': 'newton-cg'}   \n",
       "1                                            {'clf__C': 100, 'clf__gamma': 0.1}   \n",
       "2                           {'clf__max_depth': 16, 'clf__min_samples_leaf': 50}   \n",
       "3  {'clf__max_depth': 16, 'clf__min_samples_leaf': 5, 'clf__n_estimators': 200}   \n",
       "\n",
       "   Best Cross Val Score  Train Score  Test Score  \n",
       "0              0.896480     0.902692    0.889423  \n",
       "1              0.836439     0.855072    0.860577  \n",
       "2              0.848861     0.855072    0.836538  \n",
       "3              0.906832     0.948240    0.942308  "
      ]
     },
     "execution_count": 35,
     "metadata": {},
     "output_type": "execute_result"
    }
   ],
   "source": [
    "# Evaluate Best Parameter & Accuracy Model\n",
    "best_params_rf = grid_rf.best_params_\n",
    "best_cross_val_rf = grid_rf.best_score_\n",
    "score_rf = grid_rf.score(X_train, y_train)\n",
    "score_rft = grid_rf.score(X_test, y_test)\n",
    "\n",
    "evaluation.loc[r+3] = ['Random Forest', best_params_rf, best_cross_val_rf, score_rf, score_rft]\n",
    "evaluation"
   ]
  },
  {
   "cell_type": "markdown",
   "metadata": {},
   "source": [
    "Berikut adalah precision, recall, f1-score pada model Random Forest."
   ]
  },
  {
   "cell_type": "code",
   "execution_count": 36,
   "metadata": {},
   "outputs": [
    {
     "data": {
      "text/html": [
       "<div>\n",
       "<style scoped>\n",
       "    .dataframe tbody tr th:only-of-type {\n",
       "        vertical-align: middle;\n",
       "    }\n",
       "\n",
       "    .dataframe tbody tr th {\n",
       "        vertical-align: top;\n",
       "    }\n",
       "\n",
       "    .dataframe thead th {\n",
       "        text-align: right;\n",
       "    }\n",
       "</style>\n",
       "<table border=\"1\" class=\"dataframe\">\n",
       "  <thead>\n",
       "    <tr style=\"text-align: right;\">\n",
       "      <th></th>\n",
       "      <th>Model</th>\n",
       "      <th>Train_Precision</th>\n",
       "      <th>Train_Recall</th>\n",
       "      <th>Train_F1-score</th>\n",
       "      <th>Test_Precision</th>\n",
       "      <th>Test_Recall</th>\n",
       "      <th>Test_F1-score</th>\n",
       "    </tr>\n",
       "  </thead>\n",
       "  <tbody>\n",
       "    <tr>\n",
       "      <th>0</th>\n",
       "      <td>Logistic Regression</td>\n",
       "      <td>0.884615</td>\n",
       "      <td>0.931174</td>\n",
       "      <td>0.907298</td>\n",
       "      <td>0.849057</td>\n",
       "      <td>0.927835</td>\n",
       "      <td>0.886700</td>\n",
       "    </tr>\n",
       "    <tr>\n",
       "      <th>1</th>\n",
       "      <td>Support Vector Machine</td>\n",
       "      <td>0.858300</td>\n",
       "      <td>0.858300</td>\n",
       "      <td>0.858300</td>\n",
       "      <td>0.814815</td>\n",
       "      <td>0.907216</td>\n",
       "      <td>0.858537</td>\n",
       "    </tr>\n",
       "    <tr>\n",
       "      <th>2</th>\n",
       "      <td>Decision Tree</td>\n",
       "      <td>0.886463</td>\n",
       "      <td>0.821862</td>\n",
       "      <td>0.852941</td>\n",
       "      <td>0.853933</td>\n",
       "      <td>0.783505</td>\n",
       "      <td>0.817204</td>\n",
       "    </tr>\n",
       "    <tr>\n",
       "      <th>3</th>\n",
       "      <td>Random Forest</td>\n",
       "      <td>0.954918</td>\n",
       "      <td>0.943320</td>\n",
       "      <td>0.949084</td>\n",
       "      <td>0.938144</td>\n",
       "      <td>0.938144</td>\n",
       "      <td>0.938144</td>\n",
       "    </tr>\n",
       "  </tbody>\n",
       "</table>\n",
       "</div>"
      ],
      "text/plain": [
       "                    Model  Train_Precision  Train_Recall  Train_F1-score  \\\n",
       "0     Logistic Regression         0.884615      0.931174        0.907298   \n",
       "1  Support Vector Machine         0.858300      0.858300        0.858300   \n",
       "2           Decision Tree         0.886463      0.821862        0.852941   \n",
       "3           Random Forest         0.954918      0.943320        0.949084   \n",
       "\n",
       "   Test_Precision  Test_Recall  Test_F1-score  \n",
       "0        0.849057     0.927835       0.886700  \n",
       "1        0.814815     0.907216       0.858537  \n",
       "2        0.853933     0.783505       0.817204  \n",
       "3        0.938144     0.938144       0.938144  "
      ]
     },
     "execution_count": 36,
     "metadata": {},
     "output_type": "execute_result"
    }
   ],
   "source": [
    "# Select best model with best fit\n",
    "best_grid_rf = grid_rf.best_estimator_\n",
    "\n",
    "# Calculate precision, recall, f1-score,\n",
    "prec_rf = precision_score(y_train, best_grid_rf.predict(X_train))\n",
    "rec_rf = recall_score(y_train, best_grid_rf.predict(X_train))\n",
    "f1_rf = f1_score(y_train, best_grid_rf.predict(X_train))\n",
    "prec_rft = precision_score(y_test, best_grid_rf.predict(X_test))\n",
    "rec_rft = recall_score(y_test, best_grid_rf.predict(X_test))\n",
    "f1_rft = f1_score(y_test, best_grid_rf.predict(X_test))\n",
    "\n",
    "metrics_eval.loc[r+3] = ['Random Forest', prec_rf, rec_rf, f1_rf, prec_rft, rec_rft, f1_rft]\n",
    "metrics_eval"
   ]
  },
  {
   "cell_type": "markdown",
   "metadata": {},
   "source": [
    "Berikut adalah confusion_matrix pada model Random Forest."
   ]
  },
  {
   "cell_type": "code",
   "execution_count": 37,
   "metadata": {},
   "outputs": [
    {
     "name": "stdout",
     "output_type": "stream",
     "text": [
      "Train-Set\n",
      "[[225  11]\n",
      " [ 14 233]]\n",
      " \n",
      "Test-Set\n",
      "[[105   6]\n",
      " [  6  91]]\n"
     ]
    }
   ],
   "source": [
    "# Print Confusion Matrix\n",
    "\n",
    "print('Train-Set')\n",
    "print(confusion_matrix(y_train, best_grid_rf.predict(X_train)))\n",
    "print(' ')\n",
    "\n",
    "print('Test-Set')\n",
    "print(confusion_matrix(y_test, best_grid_rf.predict(X_test)))"
   ]
  },
  {
   "cell_type": "markdown",
   "metadata": {},
   "source": [
    "## Model K-Nearest Neighbors (KNN)"
   ]
  },
  {
   "cell_type": "markdown",
   "metadata": {},
   "source": [
    "Berikut adalah parameter terbaik, cross_val_score terbaik, train-set score, dan test-set score pada model K-Nearest Neighbors (KNN). "
   ]
  },
  {
   "cell_type": "code",
   "execution_count": 38,
   "metadata": {},
   "outputs": [
    {
     "data": {
      "text/html": [
       "<div>\n",
       "<style scoped>\n",
       "    .dataframe tbody tr th:only-of-type {\n",
       "        vertical-align: middle;\n",
       "    }\n",
       "\n",
       "    .dataframe tbody tr th {\n",
       "        vertical-align: top;\n",
       "    }\n",
       "\n",
       "    .dataframe thead th {\n",
       "        text-align: right;\n",
       "    }\n",
       "</style>\n",
       "<table border=\"1\" class=\"dataframe\">\n",
       "  <thead>\n",
       "    <tr style=\"text-align: right;\">\n",
       "      <th></th>\n",
       "      <th>Model</th>\n",
       "      <th>Best Params</th>\n",
       "      <th>Best Cross Val Score</th>\n",
       "      <th>Train Score</th>\n",
       "      <th>Test Score</th>\n",
       "    </tr>\n",
       "  </thead>\n",
       "  <tbody>\n",
       "    <tr>\n",
       "      <th>0</th>\n",
       "      <td>Logistic Regression</td>\n",
       "      <td>{'clf__C': 0.01, 'clf__penalty': 'none', 'clf__solver': 'newton-cg'}</td>\n",
       "      <td>0.896480</td>\n",
       "      <td>0.902692</td>\n",
       "      <td>0.889423</td>\n",
       "    </tr>\n",
       "    <tr>\n",
       "      <th>1</th>\n",
       "      <td>Support Vector Machine</td>\n",
       "      <td>{'clf__C': 100, 'clf__gamma': 0.1}</td>\n",
       "      <td>0.836439</td>\n",
       "      <td>0.855072</td>\n",
       "      <td>0.860577</td>\n",
       "    </tr>\n",
       "    <tr>\n",
       "      <th>2</th>\n",
       "      <td>Decision Tree</td>\n",
       "      <td>{'clf__max_depth': 16, 'clf__min_samples_leaf': 50}</td>\n",
       "      <td>0.848861</td>\n",
       "      <td>0.855072</td>\n",
       "      <td>0.836538</td>\n",
       "    </tr>\n",
       "    <tr>\n",
       "      <th>3</th>\n",
       "      <td>Random Forest</td>\n",
       "      <td>{'clf__max_depth': 16, 'clf__min_samples_leaf': 5, 'clf__n_estimators': 200}</td>\n",
       "      <td>0.906832</td>\n",
       "      <td>0.948240</td>\n",
       "      <td>0.942308</td>\n",
       "    </tr>\n",
       "    <tr>\n",
       "      <th>4</th>\n",
       "      <td>K-Nearest Neighbors</td>\n",
       "      <td>{'clf__n_neighbors': 23}</td>\n",
       "      <td>0.830228</td>\n",
       "      <td>0.859213</td>\n",
       "      <td>0.870192</td>\n",
       "    </tr>\n",
       "  </tbody>\n",
       "</table>\n",
       "</div>"
      ],
      "text/plain": [
       "                    Model  \\\n",
       "0     Logistic Regression   \n",
       "1  Support Vector Machine   \n",
       "2           Decision Tree   \n",
       "3           Random Forest   \n",
       "4     K-Nearest Neighbors   \n",
       "\n",
       "                                                                    Best Params  \\\n",
       "0          {'clf__C': 0.01, 'clf__penalty': 'none', 'clf__solver': 'newton-cg'}   \n",
       "1                                            {'clf__C': 100, 'clf__gamma': 0.1}   \n",
       "2                           {'clf__max_depth': 16, 'clf__min_samples_leaf': 50}   \n",
       "3  {'clf__max_depth': 16, 'clf__min_samples_leaf': 5, 'clf__n_estimators': 200}   \n",
       "4                                                      {'clf__n_neighbors': 23}   \n",
       "\n",
       "   Best Cross Val Score  Train Score  Test Score  \n",
       "0              0.896480     0.902692    0.889423  \n",
       "1              0.836439     0.855072    0.860577  \n",
       "2              0.848861     0.855072    0.836538  \n",
       "3              0.906832     0.948240    0.942308  \n",
       "4              0.830228     0.859213    0.870192  "
      ]
     },
     "execution_count": 38,
     "metadata": {},
     "output_type": "execute_result"
    }
   ],
   "source": [
    "# Evaluate Best Parameter & Accuracy Model\n",
    "best_params_knn = grid_knn.best_params_\n",
    "best_cross_val_knn = grid_knn.best_score_\n",
    "score_knn = grid_knn.score(X_train, y_train)\n",
    "score_knnt = grid_knn.score(X_test, y_test)\n",
    "\n",
    "evaluation.loc[r+4] = ['K-Nearest Neighbors', best_params_knn, best_cross_val_knn, score_knn, score_knnt]\n",
    "evaluation"
   ]
  },
  {
   "cell_type": "markdown",
   "metadata": {},
   "source": [
    "Berikut adalah precision, recall, f1-score pada model K-Nearest Neighbors."
   ]
  },
  {
   "cell_type": "code",
   "execution_count": 39,
   "metadata": {},
   "outputs": [
    {
     "data": {
      "text/html": [
       "<div>\n",
       "<style scoped>\n",
       "    .dataframe tbody tr th:only-of-type {\n",
       "        vertical-align: middle;\n",
       "    }\n",
       "\n",
       "    .dataframe tbody tr th {\n",
       "        vertical-align: top;\n",
       "    }\n",
       "\n",
       "    .dataframe thead th {\n",
       "        text-align: right;\n",
       "    }\n",
       "</style>\n",
       "<table border=\"1\" class=\"dataframe\">\n",
       "  <thead>\n",
       "    <tr style=\"text-align: right;\">\n",
       "      <th></th>\n",
       "      <th>Model</th>\n",
       "      <th>Train_Precision</th>\n",
       "      <th>Train_Recall</th>\n",
       "      <th>Train_F1-score</th>\n",
       "      <th>Test_Precision</th>\n",
       "      <th>Test_Recall</th>\n",
       "      <th>Test_F1-score</th>\n",
       "    </tr>\n",
       "  </thead>\n",
       "  <tbody>\n",
       "    <tr>\n",
       "      <th>0</th>\n",
       "      <td>Logistic Regression</td>\n",
       "      <td>0.884615</td>\n",
       "      <td>0.931174</td>\n",
       "      <td>0.907298</td>\n",
       "      <td>0.849057</td>\n",
       "      <td>0.927835</td>\n",
       "      <td>0.886700</td>\n",
       "    </tr>\n",
       "    <tr>\n",
       "      <th>1</th>\n",
       "      <td>Support Vector Machine</td>\n",
       "      <td>0.858300</td>\n",
       "      <td>0.858300</td>\n",
       "      <td>0.858300</td>\n",
       "      <td>0.814815</td>\n",
       "      <td>0.907216</td>\n",
       "      <td>0.858537</td>\n",
       "    </tr>\n",
       "    <tr>\n",
       "      <th>2</th>\n",
       "      <td>Decision Tree</td>\n",
       "      <td>0.886463</td>\n",
       "      <td>0.821862</td>\n",
       "      <td>0.852941</td>\n",
       "      <td>0.853933</td>\n",
       "      <td>0.783505</td>\n",
       "      <td>0.817204</td>\n",
       "    </tr>\n",
       "    <tr>\n",
       "      <th>3</th>\n",
       "      <td>Random Forest</td>\n",
       "      <td>0.954918</td>\n",
       "      <td>0.943320</td>\n",
       "      <td>0.949084</td>\n",
       "      <td>0.938144</td>\n",
       "      <td>0.938144</td>\n",
       "      <td>0.938144</td>\n",
       "    </tr>\n",
       "    <tr>\n",
       "      <th>4</th>\n",
       "      <td>K-Nearest Neighbors</td>\n",
       "      <td>0.874477</td>\n",
       "      <td>0.846154</td>\n",
       "      <td>0.860082</td>\n",
       "      <td>0.843137</td>\n",
       "      <td>0.886598</td>\n",
       "      <td>0.864322</td>\n",
       "    </tr>\n",
       "  </tbody>\n",
       "</table>\n",
       "</div>"
      ],
      "text/plain": [
       "                    Model  Train_Precision  Train_Recall  Train_F1-score  \\\n",
       "0     Logistic Regression         0.884615      0.931174        0.907298   \n",
       "1  Support Vector Machine         0.858300      0.858300        0.858300   \n",
       "2           Decision Tree         0.886463      0.821862        0.852941   \n",
       "3           Random Forest         0.954918      0.943320        0.949084   \n",
       "4     K-Nearest Neighbors         0.874477      0.846154        0.860082   \n",
       "\n",
       "   Test_Precision  Test_Recall  Test_F1-score  \n",
       "0        0.849057     0.927835       0.886700  \n",
       "1        0.814815     0.907216       0.858537  \n",
       "2        0.853933     0.783505       0.817204  \n",
       "3        0.938144     0.938144       0.938144  \n",
       "4        0.843137     0.886598       0.864322  "
      ]
     },
     "execution_count": 39,
     "metadata": {},
     "output_type": "execute_result"
    }
   ],
   "source": [
    "# Select best model with best fit\n",
    "best_grid_knn = grid_knn.best_estimator_\n",
    "\n",
    "# Calculate precision, recall, f1-score,\n",
    "prec_knn = precision_score(y_train, best_grid_knn.predict(X_train))\n",
    "rec_knn = recall_score(y_train, best_grid_knn.predict(X_train))\n",
    "f1_knn = f1_score(y_train, best_grid_knn.predict(X_train))\n",
    "prec_knnt = precision_score(y_test, best_grid_knn.predict(X_test))\n",
    "rec_knnt = recall_score(y_test, best_grid_knn.predict(X_test))\n",
    "f1_knnt = f1_score(y_test, best_grid_knn.predict(X_test))\n",
    "\n",
    "metrics_eval.loc[r+4] = ['K-Nearest Neighbors', prec_knn, rec_knn, f1_knn, prec_knnt, rec_knnt, f1_knnt]\n",
    "metrics_eval"
   ]
  },
  {
   "cell_type": "markdown",
   "metadata": {},
   "source": [
    "Berikut adalah confusion_matrix pada model K-Nearest Neighbors."
   ]
  },
  {
   "cell_type": "code",
   "execution_count": 40,
   "metadata": {},
   "outputs": [
    {
     "name": "stdout",
     "output_type": "stream",
     "text": [
      "Train-Set\n",
      "[[206  30]\n",
      " [ 38 209]]\n",
      " \n",
      "Test-Set\n",
      "[[95 16]\n",
      " [11 86]]\n"
     ]
    }
   ],
   "source": [
    "# Print Confusion Matrix\n",
    "\n",
    "print('Train-Set')\n",
    "print(confusion_matrix(y_train, best_grid_knn.predict(X_train)))\n",
    "print(' ')\n",
    "\n",
    "print('Test-Set')\n",
    "print(confusion_matrix(y_test, best_grid_knn.predict(X_test)))"
   ]
  },
  {
   "cell_type": "markdown",
   "metadata": {},
   "source": [
    "## Model Naive Bayes"
   ]
  },
  {
   "cell_type": "markdown",
   "metadata": {},
   "source": [
    "Berikut adalah parameter terbaik, cross_val_score terbaik, train-set score, dan test-set score pada model Naive Bayes."
   ]
  },
  {
   "cell_type": "code",
   "execution_count": 41,
   "metadata": {},
   "outputs": [
    {
     "data": {
      "text/html": [
       "<div>\n",
       "<style scoped>\n",
       "    .dataframe tbody tr th:only-of-type {\n",
       "        vertical-align: middle;\n",
       "    }\n",
       "\n",
       "    .dataframe tbody tr th {\n",
       "        vertical-align: top;\n",
       "    }\n",
       "\n",
       "    .dataframe thead th {\n",
       "        text-align: right;\n",
       "    }\n",
       "</style>\n",
       "<table border=\"1\" class=\"dataframe\">\n",
       "  <thead>\n",
       "    <tr style=\"text-align: right;\">\n",
       "      <th></th>\n",
       "      <th>Model</th>\n",
       "      <th>Best Params</th>\n",
       "      <th>Best Cross Val Score</th>\n",
       "      <th>Train Score</th>\n",
       "      <th>Test Score</th>\n",
       "    </tr>\n",
       "  </thead>\n",
       "  <tbody>\n",
       "    <tr>\n",
       "      <th>0</th>\n",
       "      <td>Logistic Regression</td>\n",
       "      <td>{'clf__C': 0.01, 'clf__penalty': 'none', 'clf__solver': 'newton-cg'}</td>\n",
       "      <td>0.896480</td>\n",
       "      <td>0.902692</td>\n",
       "      <td>0.889423</td>\n",
       "    </tr>\n",
       "    <tr>\n",
       "      <th>1</th>\n",
       "      <td>Support Vector Machine</td>\n",
       "      <td>{'clf__C': 100, 'clf__gamma': 0.1}</td>\n",
       "      <td>0.836439</td>\n",
       "      <td>0.855072</td>\n",
       "      <td>0.860577</td>\n",
       "    </tr>\n",
       "    <tr>\n",
       "      <th>2</th>\n",
       "      <td>Decision Tree</td>\n",
       "      <td>{'clf__max_depth': 16, 'clf__min_samples_leaf': 50}</td>\n",
       "      <td>0.848861</td>\n",
       "      <td>0.855072</td>\n",
       "      <td>0.836538</td>\n",
       "    </tr>\n",
       "    <tr>\n",
       "      <th>3</th>\n",
       "      <td>Random Forest</td>\n",
       "      <td>{'clf__max_depth': 16, 'clf__min_samples_leaf': 5, 'clf__n_estimators': 200}</td>\n",
       "      <td>0.906832</td>\n",
       "      <td>0.948240</td>\n",
       "      <td>0.942308</td>\n",
       "    </tr>\n",
       "    <tr>\n",
       "      <th>4</th>\n",
       "      <td>K-Nearest Neighbors</td>\n",
       "      <td>{'clf__n_neighbors': 23}</td>\n",
       "      <td>0.830228</td>\n",
       "      <td>0.859213</td>\n",
       "      <td>0.870192</td>\n",
       "    </tr>\n",
       "    <tr>\n",
       "      <th>5</th>\n",
       "      <td>Naive Bayes</td>\n",
       "      <td>{'clf__var_smoothing': 1.0}</td>\n",
       "      <td>0.799172</td>\n",
       "      <td>0.795031</td>\n",
       "      <td>0.855769</td>\n",
       "    </tr>\n",
       "  </tbody>\n",
       "</table>\n",
       "</div>"
      ],
      "text/plain": [
       "                    Model  \\\n",
       "0     Logistic Regression   \n",
       "1  Support Vector Machine   \n",
       "2           Decision Tree   \n",
       "3           Random Forest   \n",
       "4     K-Nearest Neighbors   \n",
       "5             Naive Bayes   \n",
       "\n",
       "                                                                    Best Params  \\\n",
       "0          {'clf__C': 0.01, 'clf__penalty': 'none', 'clf__solver': 'newton-cg'}   \n",
       "1                                            {'clf__C': 100, 'clf__gamma': 0.1}   \n",
       "2                           {'clf__max_depth': 16, 'clf__min_samples_leaf': 50}   \n",
       "3  {'clf__max_depth': 16, 'clf__min_samples_leaf': 5, 'clf__n_estimators': 200}   \n",
       "4                                                      {'clf__n_neighbors': 23}   \n",
       "5                                                   {'clf__var_smoothing': 1.0}   \n",
       "\n",
       "   Best Cross Val Score  Train Score  Test Score  \n",
       "0              0.896480     0.902692    0.889423  \n",
       "1              0.836439     0.855072    0.860577  \n",
       "2              0.848861     0.855072    0.836538  \n",
       "3              0.906832     0.948240    0.942308  \n",
       "4              0.830228     0.859213    0.870192  \n",
       "5              0.799172     0.795031    0.855769  "
      ]
     },
     "execution_count": 41,
     "metadata": {},
     "output_type": "execute_result"
    }
   ],
   "source": [
    "# Evaluate Best Parameter & Accuracy Model\n",
    "best_params_nb = grid_nb.best_params_\n",
    "best_cross_val_nb = grid_nb.best_score_\n",
    "score_nb = grid_nb.score(X_train, y_train)\n",
    "score_nbt = grid_nb.score(X_test, y_test)\n",
    "\n",
    "evaluation.loc[r+5] = ['Naive Bayes', best_params_nb, best_cross_val_nb, score_nb, score_nbt]\n",
    "evaluation"
   ]
  },
  {
   "cell_type": "markdown",
   "metadata": {},
   "source": [
    "Berikut adalah precision, recall, f1-score pada model Naive Bayes."
   ]
  },
  {
   "cell_type": "code",
   "execution_count": 42,
   "metadata": {},
   "outputs": [
    {
     "data": {
      "text/html": [
       "<div>\n",
       "<style scoped>\n",
       "    .dataframe tbody tr th:only-of-type {\n",
       "        vertical-align: middle;\n",
       "    }\n",
       "\n",
       "    .dataframe tbody tr th {\n",
       "        vertical-align: top;\n",
       "    }\n",
       "\n",
       "    .dataframe thead th {\n",
       "        text-align: right;\n",
       "    }\n",
       "</style>\n",
       "<table border=\"1\" class=\"dataframe\">\n",
       "  <thead>\n",
       "    <tr style=\"text-align: right;\">\n",
       "      <th></th>\n",
       "      <th>Model</th>\n",
       "      <th>Train_Precision</th>\n",
       "      <th>Train_Recall</th>\n",
       "      <th>Train_F1-score</th>\n",
       "      <th>Test_Precision</th>\n",
       "      <th>Test_Recall</th>\n",
       "      <th>Test_F1-score</th>\n",
       "    </tr>\n",
       "  </thead>\n",
       "  <tbody>\n",
       "    <tr>\n",
       "      <th>0</th>\n",
       "      <td>Logistic Regression</td>\n",
       "      <td>0.884615</td>\n",
       "      <td>0.931174</td>\n",
       "      <td>0.907298</td>\n",
       "      <td>0.849057</td>\n",
       "      <td>0.927835</td>\n",
       "      <td>0.886700</td>\n",
       "    </tr>\n",
       "    <tr>\n",
       "      <th>1</th>\n",
       "      <td>Support Vector Machine</td>\n",
       "      <td>0.858300</td>\n",
       "      <td>0.858300</td>\n",
       "      <td>0.858300</td>\n",
       "      <td>0.814815</td>\n",
       "      <td>0.907216</td>\n",
       "      <td>0.858537</td>\n",
       "    </tr>\n",
       "    <tr>\n",
       "      <th>2</th>\n",
       "      <td>Decision Tree</td>\n",
       "      <td>0.886463</td>\n",
       "      <td>0.821862</td>\n",
       "      <td>0.852941</td>\n",
       "      <td>0.853933</td>\n",
       "      <td>0.783505</td>\n",
       "      <td>0.817204</td>\n",
       "    </tr>\n",
       "    <tr>\n",
       "      <th>3</th>\n",
       "      <td>Random Forest</td>\n",
       "      <td>0.954918</td>\n",
       "      <td>0.943320</td>\n",
       "      <td>0.949084</td>\n",
       "      <td>0.938144</td>\n",
       "      <td>0.938144</td>\n",
       "      <td>0.938144</td>\n",
       "    </tr>\n",
       "    <tr>\n",
       "      <th>4</th>\n",
       "      <td>K-Nearest Neighbors</td>\n",
       "      <td>0.874477</td>\n",
       "      <td>0.846154</td>\n",
       "      <td>0.860082</td>\n",
       "      <td>0.843137</td>\n",
       "      <td>0.886598</td>\n",
       "      <td>0.864322</td>\n",
       "    </tr>\n",
       "    <tr>\n",
       "      <th>5</th>\n",
       "      <td>Naive Bayes</td>\n",
       "      <td>0.862745</td>\n",
       "      <td>0.712551</td>\n",
       "      <td>0.780488</td>\n",
       "      <td>0.894118</td>\n",
       "      <td>0.783505</td>\n",
       "      <td>0.835165</td>\n",
       "    </tr>\n",
       "  </tbody>\n",
       "</table>\n",
       "</div>"
      ],
      "text/plain": [
       "                    Model  Train_Precision  Train_Recall  Train_F1-score  \\\n",
       "0     Logistic Regression         0.884615      0.931174        0.907298   \n",
       "1  Support Vector Machine         0.858300      0.858300        0.858300   \n",
       "2           Decision Tree         0.886463      0.821862        0.852941   \n",
       "3           Random Forest         0.954918      0.943320        0.949084   \n",
       "4     K-Nearest Neighbors         0.874477      0.846154        0.860082   \n",
       "5             Naive Bayes         0.862745      0.712551        0.780488   \n",
       "\n",
       "   Test_Precision  Test_Recall  Test_F1-score  \n",
       "0        0.849057     0.927835       0.886700  \n",
       "1        0.814815     0.907216       0.858537  \n",
       "2        0.853933     0.783505       0.817204  \n",
       "3        0.938144     0.938144       0.938144  \n",
       "4        0.843137     0.886598       0.864322  \n",
       "5        0.894118     0.783505       0.835165  "
      ]
     },
     "execution_count": 42,
     "metadata": {},
     "output_type": "execute_result"
    }
   ],
   "source": [
    "# Select best model with best fit\n",
    "best_grid_nb = grid_nb.best_estimator_\n",
    "\n",
    "# Calculate precision, recall, f1-score,\n",
    "prec_nb = precision_score(y_train, best_grid_nb.predict(X_train))\n",
    "rec_nb = recall_score(y_train, best_grid_nb.predict(X_train))\n",
    "f1_nb = f1_score(y_train, best_grid_nb.predict(X_train))\n",
    "prec_nbt = precision_score(y_test, best_grid_nb.predict(X_test))\n",
    "rec_nbt = recall_score(y_test, best_grid_nb.predict(X_test))\n",
    "f1_nbt = f1_score(y_test, best_grid_nb.predict(X_test))\n",
    "\n",
    "metrics_eval.loc[r+5] = ['Naive Bayes', prec_nb, rec_nb, f1_nb, prec_nbt, rec_nbt, f1_nbt]\n",
    "metrics_eval"
   ]
  },
  {
   "cell_type": "markdown",
   "metadata": {},
   "source": [
    "Berikut adalah confusion_matrix pada model Naive Bayes."
   ]
  },
  {
   "cell_type": "code",
   "execution_count": 43,
   "metadata": {},
   "outputs": [
    {
     "name": "stdout",
     "output_type": "stream",
     "text": [
      "Train-Set\n",
      "[[208  28]\n",
      " [ 71 176]]\n",
      " \n",
      "Test-Set\n",
      "[[102   9]\n",
      " [ 21  76]]\n"
     ]
    }
   ],
   "source": [
    "# Print Confusion Matrix\n",
    "\n",
    "print('Train-Set')\n",
    "print(confusion_matrix(y_train, best_grid_nb.predict(X_train)))\n",
    "print(' ')\n",
    "\n",
    "print('Test-Set')\n",
    "print(confusion_matrix(y_test, best_grid_nb.predict(X_test)))"
   ]
  },
  {
   "cell_type": "markdown",
   "metadata": {},
   "source": [
    "## Model Gradient Boosting"
   ]
  },
  {
   "cell_type": "markdown",
   "metadata": {},
   "source": [
    "Berikut adalah parameter terbaik, cross_val_score terbaik, train-set score, dan test-set score pada model Gradient Boosting."
   ]
  },
  {
   "cell_type": "code",
   "execution_count": 44,
   "metadata": {},
   "outputs": [
    {
     "data": {
      "text/html": [
       "<div>\n",
       "<style scoped>\n",
       "    .dataframe tbody tr th:only-of-type {\n",
       "        vertical-align: middle;\n",
       "    }\n",
       "\n",
       "    .dataframe tbody tr th {\n",
       "        vertical-align: top;\n",
       "    }\n",
       "\n",
       "    .dataframe thead th {\n",
       "        text-align: right;\n",
       "    }\n",
       "</style>\n",
       "<table border=\"1\" class=\"dataframe\">\n",
       "  <thead>\n",
       "    <tr style=\"text-align: right;\">\n",
       "      <th></th>\n",
       "      <th>Model</th>\n",
       "      <th>Best Params</th>\n",
       "      <th>Best Cross Val Score</th>\n",
       "      <th>Train Score</th>\n",
       "      <th>Test Score</th>\n",
       "    </tr>\n",
       "  </thead>\n",
       "  <tbody>\n",
       "    <tr>\n",
       "      <th>0</th>\n",
       "      <td>Logistic Regression</td>\n",
       "      <td>{'clf__C': 0.01, 'clf__penalty': 'none', 'clf__solver': 'newton-cg'}</td>\n",
       "      <td>0.896480</td>\n",
       "      <td>0.902692</td>\n",
       "      <td>0.889423</td>\n",
       "    </tr>\n",
       "    <tr>\n",
       "      <th>1</th>\n",
       "      <td>Support Vector Machine</td>\n",
       "      <td>{'clf__C': 100, 'clf__gamma': 0.1}</td>\n",
       "      <td>0.836439</td>\n",
       "      <td>0.855072</td>\n",
       "      <td>0.860577</td>\n",
       "    </tr>\n",
       "    <tr>\n",
       "      <th>2</th>\n",
       "      <td>Decision Tree</td>\n",
       "      <td>{'clf__max_depth': 16, 'clf__min_samples_leaf': 50}</td>\n",
       "      <td>0.848861</td>\n",
       "      <td>0.855072</td>\n",
       "      <td>0.836538</td>\n",
       "    </tr>\n",
       "    <tr>\n",
       "      <th>3</th>\n",
       "      <td>Random Forest</td>\n",
       "      <td>{'clf__max_depth': 16, 'clf__min_samples_leaf': 5, 'clf__n_estimators': 200}</td>\n",
       "      <td>0.906832</td>\n",
       "      <td>0.948240</td>\n",
       "      <td>0.942308</td>\n",
       "    </tr>\n",
       "    <tr>\n",
       "      <th>4</th>\n",
       "      <td>K-Nearest Neighbors</td>\n",
       "      <td>{'clf__n_neighbors': 23}</td>\n",
       "      <td>0.830228</td>\n",
       "      <td>0.859213</td>\n",
       "      <td>0.870192</td>\n",
       "    </tr>\n",
       "    <tr>\n",
       "      <th>5</th>\n",
       "      <td>Naive Bayes</td>\n",
       "      <td>{'clf__var_smoothing': 1.0}</td>\n",
       "      <td>0.799172</td>\n",
       "      <td>0.795031</td>\n",
       "      <td>0.855769</td>\n",
       "    </tr>\n",
       "    <tr>\n",
       "      <th>6</th>\n",
       "      <td>Gradient Boosting</td>\n",
       "      <td>{'clf__learning_rate': 0.01, 'clf__n_estimators': 400}</td>\n",
       "      <td>0.906832</td>\n",
       "      <td>0.966874</td>\n",
       "      <td>0.918269</td>\n",
       "    </tr>\n",
       "  </tbody>\n",
       "</table>\n",
       "</div>"
      ],
      "text/plain": [
       "                    Model  \\\n",
       "0     Logistic Regression   \n",
       "1  Support Vector Machine   \n",
       "2           Decision Tree   \n",
       "3           Random Forest   \n",
       "4     K-Nearest Neighbors   \n",
       "5             Naive Bayes   \n",
       "6       Gradient Boosting   \n",
       "\n",
       "                                                                    Best Params  \\\n",
       "0          {'clf__C': 0.01, 'clf__penalty': 'none', 'clf__solver': 'newton-cg'}   \n",
       "1                                            {'clf__C': 100, 'clf__gamma': 0.1}   \n",
       "2                           {'clf__max_depth': 16, 'clf__min_samples_leaf': 50}   \n",
       "3  {'clf__max_depth': 16, 'clf__min_samples_leaf': 5, 'clf__n_estimators': 200}   \n",
       "4                                                      {'clf__n_neighbors': 23}   \n",
       "5                                                   {'clf__var_smoothing': 1.0}   \n",
       "6                        {'clf__learning_rate': 0.01, 'clf__n_estimators': 400}   \n",
       "\n",
       "   Best Cross Val Score  Train Score  Test Score  \n",
       "0              0.896480     0.902692    0.889423  \n",
       "1              0.836439     0.855072    0.860577  \n",
       "2              0.848861     0.855072    0.836538  \n",
       "3              0.906832     0.948240    0.942308  \n",
       "4              0.830228     0.859213    0.870192  \n",
       "5              0.799172     0.795031    0.855769  \n",
       "6              0.906832     0.966874    0.918269  "
      ]
     },
     "execution_count": 44,
     "metadata": {},
     "output_type": "execute_result"
    }
   ],
   "source": [
    "# Evaluate Best Parameter & Accuracy Model\n",
    "best_params_gb = grid_gb.best_params_\n",
    "best_cross_val_gb = grid_gb.best_score_\n",
    "score_gb = grid_gb.score(X_train, y_train)\n",
    "score_gbt = grid_gb.score(X_test, y_test)\n",
    "\n",
    "evaluation.loc[r+6] = ['Gradient Boosting', best_params_gb, best_cross_val_gb, score_gb, score_gbt]\n",
    "evaluation"
   ]
  },
  {
   "cell_type": "markdown",
   "metadata": {},
   "source": [
    "Berikut adalah precision, recall, f1-score pada model Gradient Boosting."
   ]
  },
  {
   "cell_type": "code",
   "execution_count": 45,
   "metadata": {},
   "outputs": [
    {
     "data": {
      "text/html": [
       "<div>\n",
       "<style scoped>\n",
       "    .dataframe tbody tr th:only-of-type {\n",
       "        vertical-align: middle;\n",
       "    }\n",
       "\n",
       "    .dataframe tbody tr th {\n",
       "        vertical-align: top;\n",
       "    }\n",
       "\n",
       "    .dataframe thead th {\n",
       "        text-align: right;\n",
       "    }\n",
       "</style>\n",
       "<table border=\"1\" class=\"dataframe\">\n",
       "  <thead>\n",
       "    <tr style=\"text-align: right;\">\n",
       "      <th></th>\n",
       "      <th>Model</th>\n",
       "      <th>Train_Precision</th>\n",
       "      <th>Train_Recall</th>\n",
       "      <th>Train_F1-score</th>\n",
       "      <th>Test_Precision</th>\n",
       "      <th>Test_Recall</th>\n",
       "      <th>Test_F1-score</th>\n",
       "    </tr>\n",
       "  </thead>\n",
       "  <tbody>\n",
       "    <tr>\n",
       "      <th>0</th>\n",
       "      <td>Logistic Regression</td>\n",
       "      <td>0.884615</td>\n",
       "      <td>0.931174</td>\n",
       "      <td>0.907298</td>\n",
       "      <td>0.849057</td>\n",
       "      <td>0.927835</td>\n",
       "      <td>0.886700</td>\n",
       "    </tr>\n",
       "    <tr>\n",
       "      <th>1</th>\n",
       "      <td>Support Vector Machine</td>\n",
       "      <td>0.858300</td>\n",
       "      <td>0.858300</td>\n",
       "      <td>0.858300</td>\n",
       "      <td>0.814815</td>\n",
       "      <td>0.907216</td>\n",
       "      <td>0.858537</td>\n",
       "    </tr>\n",
       "    <tr>\n",
       "      <th>2</th>\n",
       "      <td>Decision Tree</td>\n",
       "      <td>0.886463</td>\n",
       "      <td>0.821862</td>\n",
       "      <td>0.852941</td>\n",
       "      <td>0.853933</td>\n",
       "      <td>0.783505</td>\n",
       "      <td>0.817204</td>\n",
       "    </tr>\n",
       "    <tr>\n",
       "      <th>3</th>\n",
       "      <td>Random Forest</td>\n",
       "      <td>0.954918</td>\n",
       "      <td>0.943320</td>\n",
       "      <td>0.949084</td>\n",
       "      <td>0.938144</td>\n",
       "      <td>0.938144</td>\n",
       "      <td>0.938144</td>\n",
       "    </tr>\n",
       "    <tr>\n",
       "      <th>4</th>\n",
       "      <td>K-Nearest Neighbors</td>\n",
       "      <td>0.874477</td>\n",
       "      <td>0.846154</td>\n",
       "      <td>0.860082</td>\n",
       "      <td>0.843137</td>\n",
       "      <td>0.886598</td>\n",
       "      <td>0.864322</td>\n",
       "    </tr>\n",
       "    <tr>\n",
       "      <th>5</th>\n",
       "      <td>Naive Bayes</td>\n",
       "      <td>0.862745</td>\n",
       "      <td>0.712551</td>\n",
       "      <td>0.780488</td>\n",
       "      <td>0.894118</td>\n",
       "      <td>0.783505</td>\n",
       "      <td>0.835165</td>\n",
       "    </tr>\n",
       "    <tr>\n",
       "      <th>6</th>\n",
       "      <td>Gradient Boosting</td>\n",
       "      <td>0.967611</td>\n",
       "      <td>0.967611</td>\n",
       "      <td>0.967611</td>\n",
       "      <td>0.925532</td>\n",
       "      <td>0.896907</td>\n",
       "      <td>0.910995</td>\n",
       "    </tr>\n",
       "  </tbody>\n",
       "</table>\n",
       "</div>"
      ],
      "text/plain": [
       "                    Model  Train_Precision  Train_Recall  Train_F1-score  \\\n",
       "0     Logistic Regression         0.884615      0.931174        0.907298   \n",
       "1  Support Vector Machine         0.858300      0.858300        0.858300   \n",
       "2           Decision Tree         0.886463      0.821862        0.852941   \n",
       "3           Random Forest         0.954918      0.943320        0.949084   \n",
       "4     K-Nearest Neighbors         0.874477      0.846154        0.860082   \n",
       "5             Naive Bayes         0.862745      0.712551        0.780488   \n",
       "6       Gradient Boosting         0.967611      0.967611        0.967611   \n",
       "\n",
       "   Test_Precision  Test_Recall  Test_F1-score  \n",
       "0        0.849057     0.927835       0.886700  \n",
       "1        0.814815     0.907216       0.858537  \n",
       "2        0.853933     0.783505       0.817204  \n",
       "3        0.938144     0.938144       0.938144  \n",
       "4        0.843137     0.886598       0.864322  \n",
       "5        0.894118     0.783505       0.835165  \n",
       "6        0.925532     0.896907       0.910995  "
      ]
     },
     "execution_count": 45,
     "metadata": {},
     "output_type": "execute_result"
    }
   ],
   "source": [
    "# Select best model with best fit\n",
    "best_grid_gb = grid_gb.best_estimator_\n",
    "\n",
    "# Calculate precision, recall, f1-score,\n",
    "prec_gb = precision_score(y_train, best_grid_gb.predict(X_train))\n",
    "rec_gb = recall_score(y_train, best_grid_gb.predict(X_train))\n",
    "f1_gb = f1_score(y_train, best_grid_gb.predict(X_train))\n",
    "prec_gbt = precision_score(y_test, best_grid_gb.predict(X_test))\n",
    "rec_gbt = recall_score(y_test, best_grid_gb.predict(X_test))\n",
    "f1_gbt = f1_score(y_test, best_grid_gb.predict(X_test))\n",
    "\n",
    "metrics_eval.loc[r+6] = ['Gradient Boosting', prec_gb, rec_gb, f1_gb, prec_gbt, rec_gbt, f1_gbt]\n",
    "metrics_eval"
   ]
  },
  {
   "cell_type": "markdown",
   "metadata": {},
   "source": [
    "Berikut adalah confusion_matrix pada model Gradient Boosting."
   ]
  },
  {
   "cell_type": "code",
   "execution_count": 46,
   "metadata": {},
   "outputs": [
    {
     "name": "stdout",
     "output_type": "stream",
     "text": [
      "Train-Set\n",
      "[[228   8]\n",
      " [  8 239]]\n",
      " \n",
      "Test-Set\n",
      "[[104   7]\n",
      " [ 10  87]]\n"
     ]
    }
   ],
   "source": [
    "# Print Confusion Matrix\n",
    "\n",
    "print('Train-Set')\n",
    "print(confusion_matrix(y_train, best_grid_gb.predict(X_train)))\n",
    "print(' ')\n",
    "\n",
    "print('Test-Set')\n",
    "print(confusion_matrix(y_test, best_grid_gb.predict(X_test)))"
   ]
  },
  {
   "cell_type": "markdown",
   "metadata": {},
   "source": [
    "## Model Neural Network"
   ]
  },
  {
   "cell_type": "markdown",
   "metadata": {},
   "source": [
    "Berikut adalah parameter terbaik, cross_val_score terbaik, train-set score, dan test-set score pada model Neural Network. "
   ]
  },
  {
   "cell_type": "code",
   "execution_count": 47,
   "metadata": {},
   "outputs": [
    {
     "data": {
      "text/html": [
       "<div>\n",
       "<style scoped>\n",
       "    .dataframe tbody tr th:only-of-type {\n",
       "        vertical-align: middle;\n",
       "    }\n",
       "\n",
       "    .dataframe tbody tr th {\n",
       "        vertical-align: top;\n",
       "    }\n",
       "\n",
       "    .dataframe thead th {\n",
       "        text-align: right;\n",
       "    }\n",
       "</style>\n",
       "<table border=\"1\" class=\"dataframe\">\n",
       "  <thead>\n",
       "    <tr style=\"text-align: right;\">\n",
       "      <th></th>\n",
       "      <th>Model</th>\n",
       "      <th>Best Params</th>\n",
       "      <th>Best Cross Val Score</th>\n",
       "      <th>Train Score</th>\n",
       "      <th>Test Score</th>\n",
       "    </tr>\n",
       "  </thead>\n",
       "  <tbody>\n",
       "    <tr>\n",
       "      <th>0</th>\n",
       "      <td>Logistic Regression</td>\n",
       "      <td>{'clf__C': 0.01, 'clf__penalty': 'none', 'clf__solver': 'newton-cg'}</td>\n",
       "      <td>0.896480</td>\n",
       "      <td>0.902692</td>\n",
       "      <td>0.889423</td>\n",
       "    </tr>\n",
       "    <tr>\n",
       "      <th>1</th>\n",
       "      <td>Support Vector Machine</td>\n",
       "      <td>{'clf__C': 100, 'clf__gamma': 0.1}</td>\n",
       "      <td>0.836439</td>\n",
       "      <td>0.855072</td>\n",
       "      <td>0.860577</td>\n",
       "    </tr>\n",
       "    <tr>\n",
       "      <th>2</th>\n",
       "      <td>Decision Tree</td>\n",
       "      <td>{'clf__max_depth': 16, 'clf__min_samples_leaf': 50}</td>\n",
       "      <td>0.848861</td>\n",
       "      <td>0.855072</td>\n",
       "      <td>0.836538</td>\n",
       "    </tr>\n",
       "    <tr>\n",
       "      <th>3</th>\n",
       "      <td>Random Forest</td>\n",
       "      <td>{'clf__max_depth': 16, 'clf__min_samples_leaf': 5, 'clf__n_estimators': 200}</td>\n",
       "      <td>0.906832</td>\n",
       "      <td>0.948240</td>\n",
       "      <td>0.942308</td>\n",
       "    </tr>\n",
       "    <tr>\n",
       "      <th>4</th>\n",
       "      <td>K-Nearest Neighbors</td>\n",
       "      <td>{'clf__n_neighbors': 23}</td>\n",
       "      <td>0.830228</td>\n",
       "      <td>0.859213</td>\n",
       "      <td>0.870192</td>\n",
       "    </tr>\n",
       "    <tr>\n",
       "      <th>5</th>\n",
       "      <td>Naive Bayes</td>\n",
       "      <td>{'clf__var_smoothing': 1.0}</td>\n",
       "      <td>0.799172</td>\n",
       "      <td>0.795031</td>\n",
       "      <td>0.855769</td>\n",
       "    </tr>\n",
       "    <tr>\n",
       "      <th>6</th>\n",
       "      <td>Gradient Boosting</td>\n",
       "      <td>{'clf__learning_rate': 0.01, 'clf__n_estimators': 400}</td>\n",
       "      <td>0.906832</td>\n",
       "      <td>0.966874</td>\n",
       "      <td>0.918269</td>\n",
       "    </tr>\n",
       "    <tr>\n",
       "      <th>7</th>\n",
       "      <td>Neural Network</td>\n",
       "      <td>{'clf__alpha': 1e-05, 'clf__hidden_layer_sizes': (10, 180, 10)}</td>\n",
       "      <td>0.842650</td>\n",
       "      <td>0.869565</td>\n",
       "      <td>0.879808</td>\n",
       "    </tr>\n",
       "  </tbody>\n",
       "</table>\n",
       "</div>"
      ],
      "text/plain": [
       "                    Model  \\\n",
       "0     Logistic Regression   \n",
       "1  Support Vector Machine   \n",
       "2           Decision Tree   \n",
       "3           Random Forest   \n",
       "4     K-Nearest Neighbors   \n",
       "5             Naive Bayes   \n",
       "6       Gradient Boosting   \n",
       "7          Neural Network   \n",
       "\n",
       "                                                                    Best Params  \\\n",
       "0          {'clf__C': 0.01, 'clf__penalty': 'none', 'clf__solver': 'newton-cg'}   \n",
       "1                                            {'clf__C': 100, 'clf__gamma': 0.1}   \n",
       "2                           {'clf__max_depth': 16, 'clf__min_samples_leaf': 50}   \n",
       "3  {'clf__max_depth': 16, 'clf__min_samples_leaf': 5, 'clf__n_estimators': 200}   \n",
       "4                                                      {'clf__n_neighbors': 23}   \n",
       "5                                                   {'clf__var_smoothing': 1.0}   \n",
       "6                        {'clf__learning_rate': 0.01, 'clf__n_estimators': 400}   \n",
       "7               {'clf__alpha': 1e-05, 'clf__hidden_layer_sizes': (10, 180, 10)}   \n",
       "\n",
       "   Best Cross Val Score  Train Score  Test Score  \n",
       "0              0.896480     0.902692    0.889423  \n",
       "1              0.836439     0.855072    0.860577  \n",
       "2              0.848861     0.855072    0.836538  \n",
       "3              0.906832     0.948240    0.942308  \n",
       "4              0.830228     0.859213    0.870192  \n",
       "5              0.799172     0.795031    0.855769  \n",
       "6              0.906832     0.966874    0.918269  \n",
       "7              0.842650     0.869565    0.879808  "
      ]
     },
     "execution_count": 47,
     "metadata": {},
     "output_type": "execute_result"
    }
   ],
   "source": [
    "# Evaluate Best Parameter & Accuracy Model\n",
    "best_params_nn = grid_nn.best_params_\n",
    "best_cross_val_nn = grid_nn.best_score_\n",
    "score_nn = grid_nn.score(X_train, y_train)\n",
    "score_nnt = grid_nn.score(X_test, y_test)\n",
    "\n",
    "evaluation.loc[r+7] = ['Neural Network', best_params_nn, best_cross_val_nn, score_nn, score_nnt]\n",
    "evaluation"
   ]
  },
  {
   "cell_type": "markdown",
   "metadata": {},
   "source": [
    "Berikut adalah precision, recall, f1-score pada model Neural Network."
   ]
  },
  {
   "cell_type": "code",
   "execution_count": 48,
   "metadata": {},
   "outputs": [
    {
     "data": {
      "text/html": [
       "<div>\n",
       "<style scoped>\n",
       "    .dataframe tbody tr th:only-of-type {\n",
       "        vertical-align: middle;\n",
       "    }\n",
       "\n",
       "    .dataframe tbody tr th {\n",
       "        vertical-align: top;\n",
       "    }\n",
       "\n",
       "    .dataframe thead th {\n",
       "        text-align: right;\n",
       "    }\n",
       "</style>\n",
       "<table border=\"1\" class=\"dataframe\">\n",
       "  <thead>\n",
       "    <tr style=\"text-align: right;\">\n",
       "      <th></th>\n",
       "      <th>Model</th>\n",
       "      <th>Train_Precision</th>\n",
       "      <th>Train_Recall</th>\n",
       "      <th>Train_F1-score</th>\n",
       "      <th>Test_Precision</th>\n",
       "      <th>Test_Recall</th>\n",
       "      <th>Test_F1-score</th>\n",
       "    </tr>\n",
       "  </thead>\n",
       "  <tbody>\n",
       "    <tr>\n",
       "      <th>0</th>\n",
       "      <td>Logistic Regression</td>\n",
       "      <td>0.884615</td>\n",
       "      <td>0.931174</td>\n",
       "      <td>0.907298</td>\n",
       "      <td>0.849057</td>\n",
       "      <td>0.927835</td>\n",
       "      <td>0.886700</td>\n",
       "    </tr>\n",
       "    <tr>\n",
       "      <th>1</th>\n",
       "      <td>Support Vector Machine</td>\n",
       "      <td>0.858300</td>\n",
       "      <td>0.858300</td>\n",
       "      <td>0.858300</td>\n",
       "      <td>0.814815</td>\n",
       "      <td>0.907216</td>\n",
       "      <td>0.858537</td>\n",
       "    </tr>\n",
       "    <tr>\n",
       "      <th>2</th>\n",
       "      <td>Decision Tree</td>\n",
       "      <td>0.886463</td>\n",
       "      <td>0.821862</td>\n",
       "      <td>0.852941</td>\n",
       "      <td>0.853933</td>\n",
       "      <td>0.783505</td>\n",
       "      <td>0.817204</td>\n",
       "    </tr>\n",
       "    <tr>\n",
       "      <th>3</th>\n",
       "      <td>Random Forest</td>\n",
       "      <td>0.954918</td>\n",
       "      <td>0.943320</td>\n",
       "      <td>0.949084</td>\n",
       "      <td>0.938144</td>\n",
       "      <td>0.938144</td>\n",
       "      <td>0.938144</td>\n",
       "    </tr>\n",
       "    <tr>\n",
       "      <th>4</th>\n",
       "      <td>K-Nearest Neighbors</td>\n",
       "      <td>0.874477</td>\n",
       "      <td>0.846154</td>\n",
       "      <td>0.860082</td>\n",
       "      <td>0.843137</td>\n",
       "      <td>0.886598</td>\n",
       "      <td>0.864322</td>\n",
       "    </tr>\n",
       "    <tr>\n",
       "      <th>5</th>\n",
       "      <td>Naive Bayes</td>\n",
       "      <td>0.862745</td>\n",
       "      <td>0.712551</td>\n",
       "      <td>0.780488</td>\n",
       "      <td>0.894118</td>\n",
       "      <td>0.783505</td>\n",
       "      <td>0.835165</td>\n",
       "    </tr>\n",
       "    <tr>\n",
       "      <th>6</th>\n",
       "      <td>Gradient Boosting</td>\n",
       "      <td>0.967611</td>\n",
       "      <td>0.967611</td>\n",
       "      <td>0.967611</td>\n",
       "      <td>0.925532</td>\n",
       "      <td>0.896907</td>\n",
       "      <td>0.910995</td>\n",
       "    </tr>\n",
       "    <tr>\n",
       "      <th>7</th>\n",
       "      <td>Neural Network</td>\n",
       "      <td>0.889831</td>\n",
       "      <td>0.850202</td>\n",
       "      <td>0.869565</td>\n",
       "      <td>0.860000</td>\n",
       "      <td>0.886598</td>\n",
       "      <td>0.873096</td>\n",
       "    </tr>\n",
       "  </tbody>\n",
       "</table>\n",
       "</div>"
      ],
      "text/plain": [
       "                    Model  Train_Precision  Train_Recall  Train_F1-score  \\\n",
       "0     Logistic Regression         0.884615      0.931174        0.907298   \n",
       "1  Support Vector Machine         0.858300      0.858300        0.858300   \n",
       "2           Decision Tree         0.886463      0.821862        0.852941   \n",
       "3           Random Forest         0.954918      0.943320        0.949084   \n",
       "4     K-Nearest Neighbors         0.874477      0.846154        0.860082   \n",
       "5             Naive Bayes         0.862745      0.712551        0.780488   \n",
       "6       Gradient Boosting         0.967611      0.967611        0.967611   \n",
       "7          Neural Network         0.889831      0.850202        0.869565   \n",
       "\n",
       "   Test_Precision  Test_Recall  Test_F1-score  \n",
       "0        0.849057     0.927835       0.886700  \n",
       "1        0.814815     0.907216       0.858537  \n",
       "2        0.853933     0.783505       0.817204  \n",
       "3        0.938144     0.938144       0.938144  \n",
       "4        0.843137     0.886598       0.864322  \n",
       "5        0.894118     0.783505       0.835165  \n",
       "6        0.925532     0.896907       0.910995  \n",
       "7        0.860000     0.886598       0.873096  "
      ]
     },
     "execution_count": 48,
     "metadata": {},
     "output_type": "execute_result"
    }
   ],
   "source": [
    "# Select best model with best fit\n",
    "best_grid_nn = grid_nn.best_estimator_\n",
    "\n",
    "# Calculate precision, recall, f1-score,\n",
    "prec_nn = precision_score(y_train, best_grid_nn.predict(X_train))\n",
    "rec_nn = recall_score(y_train, best_grid_nn.predict(X_train))\n",
    "f1_nn = f1_score(y_train, best_grid_nn.predict(X_train))\n",
    "prec_nnt = precision_score(y_test, best_grid_nn.predict(X_test))\n",
    "rec_nnt = recall_score(y_test, best_grid_nn.predict(X_test))\n",
    "f1_nnt = f1_score(y_test, best_grid_nn.predict(X_test))\n",
    "\n",
    "metrics_eval.loc[r+7] = ['Neural Network', prec_nn, rec_nn, f1_nn, prec_nnt, rec_nnt, f1_nnt]\n",
    "metrics_eval"
   ]
  },
  {
   "cell_type": "markdown",
   "metadata": {},
   "source": [
    "Berikut adalah confusion_matrix pada model Neural Network."
   ]
  },
  {
   "cell_type": "code",
   "execution_count": 49,
   "metadata": {},
   "outputs": [
    {
     "name": "stdout",
     "output_type": "stream",
     "text": [
      "Train-Set\n",
      "[[210  26]\n",
      " [ 37 210]]\n",
      " \n",
      "Test-Set\n",
      "[[97 14]\n",
      " [11 86]]\n"
     ]
    }
   ],
   "source": [
    "# Print Confusion Matrix\n",
    "\n",
    "print('Train-Set')\n",
    "print(confusion_matrix(y_train, best_grid_nn.predict(X_train)))\n",
    "print(' ')\n",
    "\n",
    "print('Test-Set')\n",
    "print(confusion_matrix(y_test, best_grid_nn.predict(X_test)))"
   ]
  },
  {
   "cell_type": "markdown",
   "metadata": {},
   "source": [
    "## Best Model Selection"
   ]
  },
  {
   "cell_type": "markdown",
   "metadata": {},
   "source": [
    "Kesimpulan dari model evaluation:"
   ]
  },
  {
   "cell_type": "code",
   "execution_count": 50,
   "metadata": {},
   "outputs": [
    {
     "data": {
      "image/png": "[encoded data removed]",
      "text/plain": [
       "<Figure size 576x360 with 1 Axes>"
      ]
     },
     "metadata": {},
     "output_type": "display_data"
    }
   ],
   "source": [
    "# Defina model Accuracy score & model Name\n",
    "model_score = [score_lrt, score_svct, score_dtt, score_rft, score_knnt, score_nbt, score_gbt, score_nnt]\n",
    "model_name  = ['Logistic Regression', 'Support Vector Machines', 'Decision Tree', 'Random Forest', \n",
    "              'K-Nearest Neighbors', 'Naive Bayes', 'Gradient Boosting', 'Neural Network']\n",
    "\n",
    "# Visualize Accuracy score\n",
    "f, axe = plt.subplots(1, 1,figsize=(8,5))\n",
    "sns.barplot(x= model_score, y=model_name, ax=axe)\n",
    "axe.yaxis.tick_left()\n",
    "axe.set(xlabel='Accuracy Score (Test-set)', ylabel='Model Name', title='Accuracy Score by Models');"
   ]
  },
  {
   "cell_type": "markdown",
   "metadata": {},
   "source": [
    "# 8. Model Saving"
   ]
  },
  {
   "cell_type": "code",
   "execution_count": 51,
   "metadata": {},
   "outputs": [],
   "source": [
    "# Model Saving\n",
    "with open(\"fake_instagram.pkl\", \"wb\") as model_file:\n",
    "    pickle.dump(best_grid_rf, model_file)"
   ]
  },
  {
   "cell_type": "markdown",
   "metadata": {},
   "source": [
    "# 9. Data Inference"
   ]
  },
  {
   "cell_type": "markdown",
   "metadata": {},
   "source": [
    "Model yang sudah dilatih akan dicoba pada data yang bukan termasuk ke dalam train-set ataupun test-set. Data ini harus dalam format yang asli, bukan data yang sudah di-scaled. Data inference yang akan digunakan adalah sebagai berikut:"
   ]
  },
  {
   "cell_type": "code",
   "execution_count": 52,
   "metadata": {},
   "outputs": [
    {
     "data": {
      "text/html": [
       "<div>\n",
       "<style scoped>\n",
       "    .dataframe tbody tr th:only-of-type {\n",
       "        vertical-align: middle;\n",
       "    }\n",
       "\n",
       "    .dataframe tbody tr th {\n",
       "        vertical-align: top;\n",
       "    }\n",
       "\n",
       "    .dataframe thead th {\n",
       "        text-align: right;\n",
       "    }\n",
       "</style>\n",
       "<table border=\"1\" class=\"dataframe\">\n",
       "  <thead>\n",
       "    <tr style=\"text-align: right;\">\n",
       "      <th></th>\n",
       "      <th>profile pic</th>\n",
       "      <th>nums/length username</th>\n",
       "      <th>fullname words</th>\n",
       "      <th>nums/length fullname</th>\n",
       "      <th>name==username</th>\n",
       "      <th>description length</th>\n",
       "      <th>external URL</th>\n",
       "      <th>private</th>\n",
       "      <th>posts</th>\n",
       "      <th>followers</th>\n",
       "      <th>follows</th>\n",
       "      <th>fake</th>\n",
       "    </tr>\n",
       "  </thead>\n",
       "  <tbody>\n",
       "    <tr>\n",
       "      <th>0</th>\n",
       "      <td>0</td>\n",
       "      <td>0.31</td>\n",
       "      <td>1</td>\n",
       "      <td>0.33</td>\n",
       "      <td>0</td>\n",
       "      <td>0</td>\n",
       "      <td>0</td>\n",
       "      <td>0</td>\n",
       "      <td>0</td>\n",
       "      <td>42</td>\n",
       "      <td>175</td>\n",
       "      <td>1</td>\n",
       "    </tr>\n",
       "    <tr>\n",
       "      <th>1</th>\n",
       "      <td>1</td>\n",
       "      <td>0.88</td>\n",
       "      <td>1</td>\n",
       "      <td>0.00</td>\n",
       "      <td>0</td>\n",
       "      <td>0</td>\n",
       "      <td>0</td>\n",
       "      <td>1</td>\n",
       "      <td>39</td>\n",
       "      <td>8</td>\n",
       "      <td>60</td>\n",
       "      <td>1</td>\n",
       "    </tr>\n",
       "    <tr>\n",
       "      <th>2</th>\n",
       "      <td>1</td>\n",
       "      <td>0.00</td>\n",
       "      <td>2</td>\n",
       "      <td>0.00</td>\n",
       "      <td>0</td>\n",
       "      <td>14</td>\n",
       "      <td>0</td>\n",
       "      <td>0</td>\n",
       "      <td>13</td>\n",
       "      <td>228</td>\n",
       "      <td>346</td>\n",
       "      <td>0</td>\n",
       "    </tr>\n",
       "    <tr>\n",
       "      <th>3</th>\n",
       "      <td>0</td>\n",
       "      <td>0.25</td>\n",
       "      <td>1</td>\n",
       "      <td>0.00</td>\n",
       "      <td>0</td>\n",
       "      <td>0</td>\n",
       "      <td>0</td>\n",
       "      <td>1</td>\n",
       "      <td>0</td>\n",
       "      <td>0</td>\n",
       "      <td>11</td>\n",
       "      <td>1</td>\n",
       "    </tr>\n",
       "    <tr>\n",
       "      <th>4</th>\n",
       "      <td>0</td>\n",
       "      <td>0.46</td>\n",
       "      <td>1</td>\n",
       "      <td>0.00</td>\n",
       "      <td>0</td>\n",
       "      <td>0</td>\n",
       "      <td>0</td>\n",
       "      <td>1</td>\n",
       "      <td>0</td>\n",
       "      <td>332</td>\n",
       "      <td>1333</td>\n",
       "      <td>1</td>\n",
       "    </tr>\n",
       "  </tbody>\n",
       "</table>\n",
       "</div>"
      ],
      "text/plain": [
       "   profile pic  nums/length username  fullname words  nums/length fullname  \\\n",
       "0            0                  0.31               1                  0.33   \n",
       "1            1                  0.88               1                  0.00   \n",
       "2            1                  0.00               2                  0.00   \n",
       "3            0                  0.25               1                  0.00   \n",
       "4            0                  0.46               1                  0.00   \n",
       "\n",
       "   name==username  description length  external URL  private  posts  \\\n",
       "0               0                   0             0        0      0   \n",
       "1               0                   0             0        1     39   \n",
       "2               0                  14             0        0     13   \n",
       "3               0                   0             0        1      0   \n",
       "4               0                   0             0        1      0   \n",
       "\n",
       "   followers  follows  fake  \n",
       "0         42      175     1  \n",
       "1          8       60     1  \n",
       "2        228      346     0  \n",
       "3          0       11     1  \n",
       "4        332     1333     1  "
      ]
     },
     "execution_count": 52,
     "metadata": {},
     "output_type": "execute_result"
    }
   ],
   "source": [
    "data_inf"
   ]
  },
  {
   "cell_type": "markdown",
   "metadata": {},
   "source": [
    "Data akan displit untuk menentukan data x dan y."
   ]
  },
  {
   "cell_type": "code",
   "execution_count": 53,
   "metadata": {},
   "outputs": [],
   "source": [
    "X_inf = data_inf.drop(['fake'], axis=1)\n",
    "y_inf = data_inf['fake']"
   ]
  },
  {
   "cell_type": "code",
   "execution_count": 54,
   "metadata": {},
   "outputs": [],
   "source": [
    "# Predict Model Inference\n",
    "\n",
    "y_pred_inf = best_grid_rf.predict(X_inf)\n",
    "y_pred_inf = pd.DataFrame(y_pred_inf, columns=['fake_prediction'])"
   ]
  },
  {
   "cell_type": "code",
   "execution_count": 55,
   "metadata": {},
   "outputs": [
    {
     "data": {
      "text/html": [
       "<div>\n",
       "<style scoped>\n",
       "    .dataframe tbody tr th:only-of-type {\n",
       "        vertical-align: middle;\n",
       "    }\n",
       "\n",
       "    .dataframe tbody tr th {\n",
       "        vertical-align: top;\n",
       "    }\n",
       "\n",
       "    .dataframe thead th {\n",
       "        text-align: right;\n",
       "    }\n",
       "</style>\n",
       "<table border=\"1\" class=\"dataframe\">\n",
       "  <thead>\n",
       "    <tr style=\"text-align: right;\">\n",
       "      <th></th>\n",
       "      <th>profile pic</th>\n",
       "      <th>nums/length username</th>\n",
       "      <th>fullname words</th>\n",
       "      <th>nums/length fullname</th>\n",
       "      <th>name==username</th>\n",
       "      <th>description length</th>\n",
       "      <th>external URL</th>\n",
       "      <th>private</th>\n",
       "      <th>posts</th>\n",
       "      <th>followers</th>\n",
       "      <th>follows</th>\n",
       "      <th>fake</th>\n",
       "      <th>fake_prediction</th>\n",
       "    </tr>\n",
       "  </thead>\n",
       "  <tbody>\n",
       "    <tr>\n",
       "      <th>0</th>\n",
       "      <td>0</td>\n",
       "      <td>0.31</td>\n",
       "      <td>1</td>\n",
       "      <td>0.33</td>\n",
       "      <td>0</td>\n",
       "      <td>0</td>\n",
       "      <td>0</td>\n",
       "      <td>0</td>\n",
       "      <td>0</td>\n",
       "      <td>42</td>\n",
       "      <td>175</td>\n",
       "      <td>1</td>\n",
       "      <td>1</td>\n",
       "    </tr>\n",
       "    <tr>\n",
       "      <th>1</th>\n",
       "      <td>1</td>\n",
       "      <td>0.88</td>\n",
       "      <td>1</td>\n",
       "      <td>0.00</td>\n",
       "      <td>0</td>\n",
       "      <td>0</td>\n",
       "      <td>0</td>\n",
       "      <td>1</td>\n",
       "      <td>39</td>\n",
       "      <td>8</td>\n",
       "      <td>60</td>\n",
       "      <td>1</td>\n",
       "      <td>1</td>\n",
       "    </tr>\n",
       "    <tr>\n",
       "      <th>2</th>\n",
       "      <td>1</td>\n",
       "      <td>0.00</td>\n",
       "      <td>2</td>\n",
       "      <td>0.00</td>\n",
       "      <td>0</td>\n",
       "      <td>14</td>\n",
       "      <td>0</td>\n",
       "      <td>0</td>\n",
       "      <td>13</td>\n",
       "      <td>228</td>\n",
       "      <td>346</td>\n",
       "      <td>0</td>\n",
       "      <td>0</td>\n",
       "    </tr>\n",
       "    <tr>\n",
       "      <th>3</th>\n",
       "      <td>0</td>\n",
       "      <td>0.25</td>\n",
       "      <td>1</td>\n",
       "      <td>0.00</td>\n",
       "      <td>0</td>\n",
       "      <td>0</td>\n",
       "      <td>0</td>\n",
       "      <td>1</td>\n",
       "      <td>0</td>\n",
       "      <td>0</td>\n",
       "      <td>11</td>\n",
       "      <td>1</td>\n",
       "      <td>1</td>\n",
       "    </tr>\n",
       "    <tr>\n",
       "      <th>4</th>\n",
       "      <td>0</td>\n",
       "      <td>0.46</td>\n",
       "      <td>1</td>\n",
       "      <td>0.00</td>\n",
       "      <td>0</td>\n",
       "      <td>0</td>\n",
       "      <td>0</td>\n",
       "      <td>1</td>\n",
       "      <td>0</td>\n",
       "      <td>332</td>\n",
       "      <td>1333</td>\n",
       "      <td>1</td>\n",
       "      <td>1</td>\n",
       "    </tr>\n",
       "  </tbody>\n",
       "</table>\n",
       "</div>"
      ],
      "text/plain": [
       "   profile pic  nums/length username  fullname words  nums/length fullname  \\\n",
       "0            0                  0.31               1                  0.33   \n",
       "1            1                  0.88               1                  0.00   \n",
       "2            1                  0.00               2                  0.00   \n",
       "3            0                  0.25               1                  0.00   \n",
       "4            0                  0.46               1                  0.00   \n",
       "\n",
       "   name==username  description length  external URL  private  posts  \\\n",
       "0               0                   0             0        0      0   \n",
       "1               0                   0             0        1     39   \n",
       "2               0                  14             0        0     13   \n",
       "3               0                   0             0        1      0   \n",
       "4               0                   0             0        1      0   \n",
       "\n",
       "   followers  follows  fake  fake_prediction  \n",
       "0         42      175     1                1  \n",
       "1          8       60     1                1  \n",
       "2        228      346     0                0  \n",
       "3          0       11     1                1  \n",
       "4        332     1333     1                1  "
      ]
     },
     "execution_count": 55,
     "metadata": {},
     "output_type": "execute_result"
    }
   ],
   "source": [
    "# Concate to Original Inference-Set\n",
    "\n",
    "pd.concat([data_inf, y_pred_inf], axis=1)"
   ]
  }
 ],
 "metadata": {
  "interpreter": {
   "hash": "c7fde715a1fbd9fb0ef5ba24694befebc1a509d71c376ca4699658f9c6b4eedd"
  },
  "kernelspec": {
   "display_name": "Python 3.9.7 ('base')",
   "language": "python",
   "name": "python3"
  },
  "language_info": {
   "codemirror_mode": {
    "name": "ipython",
    "version": 3
   },
   "file_extension": ".py",
   "mimetype": "text/x-python",
   "name": "python",
   "nbconvert_exporter": "python",
   "pygments_lexer": "ipython3",
   "version": "3.9.7"
  },
  "orig_nbformat": 4
 },
 "nbformat": 4,
 "nbformat_minor": 2
}
